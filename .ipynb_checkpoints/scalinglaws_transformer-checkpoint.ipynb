{
 "cells": [
  {
   "cell_type": "code",
   "execution_count": null,
   "id": "Dydh7hqm2FDB",
   "metadata": {
    "colab": {
     "base_uri": "https://localhost:8080/"
    },
    "id": "Dydh7hqm2FDB",
    "outputId": "dabed9e8-f2c7-4c61-eec9-c5029c81253d"
   },
   "outputs": [],
   "source": [
    "!pip install -U datasets huggingface_hub fsspec"
   ]
  },
  {
   "cell_type": "code",
   "execution_count": 2,
   "id": "6f0fa007-0294-402a-a258-d92161ecca6e",
   "metadata": {
    "execution": {
     "iopub.execute_input": "2025-08-07T10:35:25.829210Z",
     "iopub.status.busy": "2025-08-07T10:35:25.828209Z",
     "iopub.status.idle": "2025-08-07T10:35:34.587636Z",
     "shell.execute_reply": "2025-08-07T10:35:34.587636Z",
     "shell.execute_reply.started": "2025-08-07T10:35:25.829210Z"
    },
    "id": "6f0fa007-0294-402a-a258-d92161ecca6e"
   },
   "outputs": [],
   "source": [
    "import pandas as pd\n",
    "import numpy as np\n",
    "import matplotlib.pyplot as plt\n",
    "from tqdm import tqdm\n",
    "import torch\n",
    "from torch import nn\n",
    "from torch.utils.data import DataLoader, TensorDataset\n",
    "from torch.nn.utils.rnn import pad_sequence, pack_padded_sequence, pad_packed_sequence\n",
    "import math\n",
    "import datasets\n",
    "import requests"
   ]
  },
  {
   "cell_type": "markdown",
   "id": "TxZxLdyQ2oTh",
   "metadata": {
    "id": "TxZxLdyQ2oTh"
   },
   "source": [
    "## Dataset and Tokenizer\n"
   ]
  },
  {
   "cell_type": "code",
   "execution_count": null,
   "id": "NDkyxrfa2CjI",
   "metadata": {
    "colab": {
     "base_uri": "https://localhost:8080/",
     "height": 434,
     "referenced_widgets": [
      "00049019c61747f4861e495925a83f86",
      "df5749ad395d4c3b81d191b7ee639482",
      "00451b0b171e4f3898f0a597675bf64e",
      "f2325f9e1c1843b0941a7e2ce40e83c2",
      "751b44ccb4224ff2b810fba29096cc39",
      "d3316c90c6d244fa9a8f1aebf3ec3da6",
      "a2b4c15c1d634c158ec3bd5aa25fd927",
      "bfc9625c49244558bdd356619ff1d57d",
      "226f6f085fee4563a2da2cf1a9d3fc85",
      "bf2395fa618c47aa9df139d49c75f642",
      "a648c1ebb8c44aecb7ab339ffdc49231",
      "6db52051ec194fd08162f1a2d1faa282",
      "5c607ea021004a68acffc9441835528f",
      "e21999f3347044b2a4defa8da259875d",
      "4deb821c9fe94cba840e55e5f4e25749",
      "71d4e00147214b55b474404525350df6",
      "7039e0a846c643e08f323eb5a750639a",
      "30a7a01b1f894286a144ca59fcdac293",
      "0afde08bbe714717ba00b9d86b7944a3",
      "ccccf3f339c84a67ae67556401a0c839",
      "3c8d176a6c084ce2a8f436dcf60a50f1",
      "7296107aabd542a7bcd0b300ae28de64",
      "8f5d42e3a01a472fa9dfd9d051cc818b",
      "22495783a86b42bb8f6ffe61bfa94d47",
      "2e80e432f0e34564bd8c6b61c519fc89",
      "4f7fcc8b6c694d24ae9680af52053015",
      "d1e5669d5e534cd3b7aeedf31c2d3e39",
      "2e8c39dec6de40e793f31a48baa07c75",
      "694b06b7f9d742f691327d7b570ab7db",
      "c7c1e9c2bfa2469ba222ee6c9dd26876",
      "6e8a7d7b34c04b058a5a2f81f8813e25",
      "4f3c61ac5c3d42b5a1af69fc8680c41f",
      "6515e36ebab54a9aaa5b46a83a78a0d0",
      "4f09f805f9f343b290009ffb57104bec",
      "32fcf99e73b2454a8f45630561f4d019",
      "384597d4e0fa4a889dd7da4713d75b68",
      "cb7db672b02a4c788ad548d35d3cd01b",
      "5ee8b1dace564fb38e65fda5aab78346",
      "e97fc10d74614e3d8640d4feaf0d1d37",
      "f67d6d3ff3c64903a08ce3f86a0b6a1b",
      "e857328607a14297879a03afdeaf2dbf",
      "9fdcb3cb39d344ffab65e1957f500844",
      "8912e6028bb44d4dbbe97935dd26bac1",
      "d00f308861cc4788b9a5fcee42bdb24f",
      "56dea96dee4b4f8896ddb2b1aa750274",
      "b829ad80b6b345fa84a3a14c8a9d6323",
      "58e76ddf756e4acda1eb27a844adc27b",
      "931ea6408d8740b48dbc52b60d133352",
      "91a30f88c778461fb61de018fc4c6bba",
      "dcfbb08bc7fb4a368fa54bca2e5d6604",
      "02d8713a5c154e71b2d9e399cb8b50b6",
      "aff93250e5f848e38234fa82a8144676",
      "6d8b920e75634eb493d6c7ac0b5f9a20",
      "a35f9b4094234120b0f01dedbe169fc7",
      "6b99899d088d4113ba1a9f295ca179ae",
      "405eba28f9404dffa3d88fe755f6ef73",
      "1fca7832cb5842329afb05143105aa0d",
      "9954aeea24e64eb89d7c8af6205e738b",
      "c08e6e4ab5eb4fdf831980e7021506a2",
      "f2ce8e4d200f4fe98d27ee28b9e1566b",
      "8a26eeeb1554411c8c15b07583595a73",
      "13247b3607ec41ec91d2628d50d45e67",
      "fcf7631f123946b1bed2b6dda3334e63",
      "78ce458e4faa43ab9d8f27d6f323d452",
      "6e964c5a27d34be0ae3516311a155a2d",
      "a6b42e44dd0946a18ca0fbc8d0eccd3b",
      "d2c76d38a30141748413e873129decfb",
      "fd7e2ab717d7478a8f154dfc68151f17",
      "77c19d4bf65742389ade7ff0bd17869d",
      "2ff031af3267433bbe461dc146c63356",
      "aa50ae8fd49a4b6aa0e3c8ad2897ed50",
      "c2bde111ee5149699e16eb6fd68f6865",
      "d602b24af5654b80a1fe1954fc526bc9",
      "e0c3f48502c24a2689b065c767fe4320",
      "591a256d29a144e4b4160ac85322ce57",
      "22d74a28bd3347c4b98b60b1acecc33a",
      "bdd66cedef7a4b2faf8ed2719eca156d",
      "2af7b0cc8ddb48879dc3fac8070cce37",
      "d5d7f14c86fa4f2490c8c76435de5dcc",
      "a5b9275e145a469cbab84ccd5074e5d2",
      "58fab7a3e64b44df866c539c535c757b",
      "bbaa8772b0b945dbab372a078feade27",
      "ffa1acdcc1cb47abb8132fc5afaf9c65",
      "45cabeac7eac4c6d9eaf2bb51b0aa107",
      "01f8f4da6ed4429d8ae0ae31aaa31963",
      "455e4bb4696f467fa4f660b03273d29d",
      "9664502f7ae2422599380f80a5f6ff1f",
      "8c21df0c52cc4fb29e609c841c56d863",
      "9f83d3dcb4254603a931ab32612d6b8e",
      "3377d3f1b7fe49a78ecb09a61bac3801",
      "337e2612bbb94bb6a3f9389f7d0a3349",
      "795e58d912ee4fe1b9c27b561671c5b9",
      "de249e8a3e8d472d9702cdbc1d48c131",
      "d15a95ef80ce4ac8b53757cb7169b8bf",
      "2fda2014ec8340238ea6a059dbf7abea",
      "cc6a10c31a4c4f23a59dbcaefe0a024b",
      "b695e444602e4352b198a19bc57ec564",
      "350d02a873ce476b8638eb1c6d2ec488",
      "c93c8d53b3554afd86807af997f72301"
     ]
    },
    "id": "NDkyxrfa2CjI",
    "outputId": "bb109355-6b3f-47a4-efcf-e8499f1256cb"
   },
   "outputs": [],
   "source": [
    "dataset = datasets.load_dataset(\"wmt/wmt14\", \"de-en\", split=[\"train\", \"test\"])"
   ]
  },
  {
   "cell_type": "code",
   "execution_count": 32,
   "id": "aJ3JD8Ew2vdE",
   "metadata": {
    "id": "aJ3JD8Ew2vdE"
   },
   "outputs": [],
   "source": [
    "df = pd.DataFrame(dataset[0][\"translation\"])"
   ]
  },
  {
   "cell_type": "code",
   "execution_count": 13,
   "id": "4_zPyr2v2yOM",
   "metadata": {
    "id": "4_zPyr2v2yOM"
   },
   "outputs": [],
   "source": [
    "unk_idx = 0\n",
    "pad_idx = 1\n",
    "sos_idx = 2\n",
    "eos_idx = 3"
   ]
  },
  {
   "cell_type": "code",
   "execution_count": 11,
   "id": "mBHBfQHr9N1q",
   "metadata": {
    "id": "mBHBfQHr9N1q"
   },
   "outputs": [],
   "source": []
  },
  {
   "cell_type": "markdown",
   "id": "VqbIZsrJ9OFn",
   "metadata": {
    "id": "VqbIZsrJ9OFn"
   },
   "source": [
    "### Train Tokenizer"
   ]
  },
  {
   "cell_type": "code",
   "execution_count": 12,
   "id": "_fTal3Hn2sAT",
   "metadata": {
    "id": "_fTal3Hn2sAT"
   },
   "outputs": [],
   "source": [
    "from tokenizers import Tokenizer\n",
    "from tokenizers.models import BPE\n",
    "from tokenizers.trainers import BpeTrainer\n",
    "from tokenizers.pre_tokenizers import Whitespace, Punctuation, Sequence as Pre_Seq\n",
    "from tokenizers.normalizers import Lowercase, Sequence\n",
    "from tokenizers.processors import TemplateProcessing\n",
    "from tokenizers.normalizers import Sequence, NFC, Lowercase\n",
    "from copy import deepcopy\n",
    "\n",
    "tkz_en = Tokenizer(BPE(unk_token=\"[UNK]\"))\n",
    "tkz_en.normalizer = Sequence([NFC(), Lowercase()])\n",
    "tkz_en.pre_tokenizer = Pre_Seq([Whitespace(), Punctuation()])\n",
    "tkz_en.post_processor = TemplateProcessing(\n",
    "    single=\"[SOS] $A [EOS]\",\n",
    "    special_tokens=[(\"[SOS]\", sos_idx), (\"[EOS]\", eos_idx)],\n",
    ")\n",
    "tkz_de = deepcopy(tkz_en)\n",
    "trainer = BpeTrainer(vocab_size=30000, special_tokens=[\"[UNK]\", \"[PAD]\", \"[SOS]\", \"[EOS]\"])"
   ]
  },
  {
   "cell_type": "code",
   "execution_count": null,
   "id": "lXWcxp44v_oC",
   "metadata": {
    "id": "lXWcxp44v_oC"
   },
   "outputs": [],
   "source": [
    "training_data_de = df[\"de\"].to_list()\n",
    "training_data_en = df[\"en\"].to_list()\n",
    "import numpy as np\n",
    "np.random.shuffle(training_data_de)\n",
    "np.random.shuffle(training_data_en)"
   ]
  },
  {
   "cell_type": "code",
   "execution_count": null,
   "id": "crsYF4GPuzNn",
   "metadata": {
    "id": "crsYF4GPuzNn"
   },
   "outputs": [],
   "source": [
    "tkz_en.train_from_iterator(training_data_en, trainer)\n",
    "tkz_de.train_from_iterator(training_data_de, trainer)"
   ]
  },
  {
   "cell_type": "code",
   "execution_count": null,
   "id": "HRVbN--j66q5",
   "metadata": {
    "id": "HRVbN--j66q5"
   },
   "outputs": [],
   "source": [
    "tkz_en.save(\"tokenizer_en.json\")\n",
    "tkz_de.save(\"tokenizer_de.json\")"
   ]
  },
  {
   "cell_type": "markdown",
   "id": "lKan0fuA9as6",
   "metadata": {
    "id": "lKan0fuA9as6"
   },
   "source": [
    "### Load Tokenizer"
   ]
  },
  {
   "cell_type": "code",
   "execution_count": 14,
   "id": "_zZMn7OD8QqF",
   "metadata": {
    "id": "_zZMn7OD8QqF"
   },
   "outputs": [],
   "source": [
    "text = requests.get(\"https://raw.githubusercontent.com/TheGEN1U5/DLventures/refs/heads/main/nlp/seq2seq/tokenizer_en.json\").text\n",
    "with open(\"tokenizer_en.json\", \"w\") as f:\n",
    "    f.write(text)\n",
    "text = requests.get(\"https://raw.githubusercontent.com/TheGEN1U5/DLventures/refs/heads/main/nlp/seq2seq/tokenizer_de.json\").text\n",
    "with open(\"tokenizer_de.json\", \"w\") as f:\n",
    "    f.write(text)"
   ]
  },
  {
   "cell_type": "code",
   "execution_count": 15,
   "id": "ab5vy9wB66q6",
   "metadata": {
    "id": "ab5vy9wB66q6"
   },
   "outputs": [],
   "source": [
    "tkz_en = Tokenizer.from_file(\"tokenizer_en.json\")\n",
    "tkz_de = Tokenizer.from_file(\"tokenizer_de.json\")"
   ]
  },
  {
   "cell_type": "markdown",
   "id": "fdlNTTkR9jRa",
   "metadata": {
    "id": "fdlNTTkR9jRa"
   },
   "source": [
    "### Tokenize Data"
   ]
  },
  {
   "cell_type": "code",
   "execution_count": 33,
   "id": "8cdda9a3",
   "metadata": {
    "id": "8cdda9a3"
   },
   "outputs": [],
   "source": [
    "original_df = deepcopy(df)"
   ]
  },
  {
   "cell_type": "code",
   "execution_count": null,
   "id": "294fb2d4",
   "metadata": {
    "colab": {
     "base_uri": "https://localhost:8080/"
    },
    "id": "294fb2d4",
    "outputId": "6fc5467e-7560-4531-d03d-cb702d66f5c2"
   },
   "outputs": [],
   "source": [
    "# taking only 100k rows\n",
    "df = original_df[:170000]\n",
    "df[\"de_len\"] = df[\"de\"].apply(lambda x: len(x))\n",
    "df[\"en_len\"] = df[\"en\"].apply(lambda x: len(x))"
   ]
  },
  {
   "cell_type": "code",
   "execution_count": null,
   "id": "61c83bac",
   "metadata": {
    "colab": {
     "base_uri": "https://localhost:8080/"
    },
    "id": "61c83bac",
    "outputId": "b49a8d01-d4d8-4286-fd83-24fce82e87c4"
   },
   "outputs": [],
   "source": [
    "df.drop(df[df['en_len'] > 200].index, inplace=True)\n",
    "df.drop(df[df['de_len'] > 200].index, inplace=True)"
   ]
  },
  {
   "cell_type": "code",
   "execution_count": null,
   "id": "vtYSva-d3eD3",
   "metadata": {
    "colab": {
     "base_uri": "https://localhost:8080/"
    },
    "id": "vtYSva-d3eD3",
    "outputId": "4cd9f51f-95c2-46ad-8afb-94487a46b3d5"
   },
   "outputs": [],
   "source": [
    "df[\"de_tokens\"] = df[\"de\"].apply(lambda x: torch.tensor(tkz_de.encode(x).ids, dtype=torch.long))\n",
    "df[\"en_tokens\"] = df[\"en\"].apply(lambda x: torch.tensor(tkz_en.encode(x).ids, dtype=torch.long))\n"
   ]
  },
  {
   "cell_type": "markdown",
   "id": "qJeObGY_9oTf",
   "metadata": {
    "id": "qJeObGY_9oTf"
   },
   "source": [
    "### Sampling Function"
   ]
  },
  {
   "cell_type": "code",
   "execution_count": 37,
   "id": "WbDb-O0p67_U",
   "metadata": {
    "id": "WbDb-O0p67_U"
   },
   "outputs": [],
   "source": [
    "from sklearn.model_selection import train_test_split\n",
    "def sample(df, size, val_split):\n",
    "    num_bins = 10  # increase/decrease depending on precision vs sample size tradeoff\n",
    "    df['bin'] = pd.cut(df['en_len'], bins=num_bins)\n",
    "    sampled_df = (\n",
    "        df.groupby('bin', group_keys=False)\n",
    "        .apply(lambda x: x.sample(frac=size / len(df), random_state=42))\n",
    "    )\n",
    "    train_df, val_df = train_test_split(\n",
    "        sampled_df,\n",
    "        test_size=val_split,  # 20% goes to val+test\n",
    "        stratify=sampled_df['bin'],\n",
    "        random_state=42\n",
    "    )\n",
    "    return train_df, val_df"
   ]
  },
  {
   "cell_type": "markdown",
   "id": "8NIC3A4-98Ma",
   "metadata": {
    "id": "8NIC3A4-98Ma"
   },
   "source": [
    "### Create Loaders"
   ]
  },
  {
   "cell_type": "code",
   "execution_count": 38,
   "id": "zF8WToZ27JDp",
   "metadata": {
    "id": "zF8WToZ27JDp"
   },
   "outputs": [],
   "source": [
    "def collate_fn(batch):\n",
    "    en, de = zip(*batch)\n",
    "    padded_en = pad_sequence(en, batch_first=True, padding_value=pad_idx)\n",
    "    padded_de = pad_sequence(de, batch_first=True, padding_value=pad_idx)\n",
    "    return padded_en, padded_de"
   ]
  },
  {
   "cell_type": "code",
   "execution_count": 39,
   "id": "1j2jFTcp9C6m",
   "metadata": {
    "id": "1j2jFTcp9C6m"
   },
   "outputs": [],
   "source": [
    "def get_loader(df, batch_size):\n",
    "    return DataLoader(list(zip(df[\"en_tokens\"].to_numpy(), df[\"de_tokens\"].to_numpy())), batch_size=batch_size, shuffle=True, collate_fn=collate_fn)"
   ]
  },
  {
   "cell_type": "markdown",
   "id": "xolyViaB9ECJ",
   "metadata": {
    "id": "xolyViaB9ECJ"
   },
   "source": [
    "## Transformer\n"
   ]
  },
  {
   "cell_type": "markdown",
   "id": "5ZrHk_lKid5V",
   "metadata": {
    "id": "5ZrHk_lKid5V"
   },
   "source": [
    "### Implementation"
   ]
  },
  {
   "cell_type": "code",
   "execution_count": 3,
   "id": "9fbf1aad-c039-42d6-a6d1-9a2ffaf1a8f3",
   "metadata": {
    "execution": {
     "iopub.execute_input": "2025-08-07T17:57:35.459008Z",
     "iopub.status.busy": "2025-08-07T17:57:35.459008Z",
     "iopub.status.idle": "2025-08-07T17:57:35.468959Z",
     "shell.execute_reply": "2025-08-07T17:57:35.468959Z",
     "shell.execute_reply.started": "2025-08-07T17:57:35.459008Z"
    },
    "id": "9fbf1aad-c039-42d6-a6d1-9a2ffaf1a8f3"
   },
   "outputs": [],
   "source": [
    "class PositionalEmbedding(nn.Module):\n",
    "    def __init__(self, max_seq_len, embed_dim):\n",
    "        super(PositionalEmbedding, self).__init__()\n",
    "        self.embed_dim = embed_dim\n",
    "        pos_mask = torch.zeros((max_seq_len, embed_dim))\n",
    "        for pos in range(max_seq_len):\n",
    "            for i in range(0, self.embed_dim, 2):\n",
    "                pos_mask[pos, i] = np.sin(pos / 10000 ** (i / self.embed_dim))\n",
    "                pos_mask[pos, i + 1] = np.cos(pos / 10000 ** (i / self.embed_dim))\n",
    "\n",
    "        pos_mask = pos_mask.unsqueeze(0)\n",
    "        self.register_buffer(\"pos_mask\", pos_mask)\n",
    "\n",
    "    def forward(self, x):\n",
    "        seq_len = x.size(1)\n",
    "        x = x + torch.autograd.Variable(self.pos_mask[:,:seq_len], requires_grad=False)\n",
    "        return x"
   ]
  },
  {
   "cell_type": "code",
   "execution_count": 4,
   "id": "ucoJ7OGi-SR_",
   "metadata": {
    "execution": {
     "iopub.execute_input": "2025-08-07T17:57:35.638683Z",
     "iopub.status.busy": "2025-08-07T17:57:35.638683Z",
     "iopub.status.idle": "2025-08-07T17:57:35.646771Z",
     "shell.execute_reply": "2025-08-07T17:57:35.646771Z",
     "shell.execute_reply.started": "2025-08-07T17:57:35.638683Z"
    },
    "id": "ucoJ7OGi-SR_"
   },
   "outputs": [],
   "source": [
    "class MultiHeadAttention(nn.Module):\n",
    "    def __init__(self, embed_dim, key_dim, value_dim, num_heads):\n",
    "        super(MultiHeadAttention, self).__init__()\n",
    "        self.num_heads = num_heads\n",
    "        self.embed_dim = embed_dim\n",
    "        self.e = embed_dim // num_heads\n",
    "        self.d_k = key_dim\n",
    "        self.d_v = value_dim\n",
    "        self.k_proj = nn.ModuleList([nn.Linear(self.e, self.d_k) for _ in range(num_heads)])\n",
    "        self.q_proj = nn.ModuleList([nn.Linear(self.e, self.d_k) for _ in range(num_heads)])\n",
    "        self.v_proj = nn.ModuleList([nn.Linear(self.e, self.d_v) for _ in range(num_heads)])\n",
    "        self.out = nn.Linear(self.num_heads * self.d_v, self.embed_dim)\n",
    "\n",
    "    def forward(self, key, query, value, mask=None):\n",
    "        self.mask = mask\n",
    "\n",
    "        b_k, s_k, _ = key.size()\n",
    "        b_q, s_q, _ = query.size()\n",
    "        b_v, s_v, _ = value.size()\n",
    "        key = key.reshape(b_k, s_k, self.num_heads, self.e)\n",
    "        query = query.reshape(b_q, s_q, self.num_heads, self.e)\n",
    "        value = value.reshape(b_v, s_v, self.num_heads, self.e)\n",
    "\n",
    "        k = torch.stack([proj(key[:, :, i, :]) for i, proj in enumerate(self.k_proj)], dim=2)  # [n, l, h, d_k]\n",
    "        q = torch.stack([proj(query[:, :, i, :]) for i, proj in enumerate(self.q_proj)], dim=2)\n",
    "        v = torch.stack([proj(value[:, :, i, :]) for i, proj in enumerate(self.v_proj)], dim=2)\n",
    "\n",
    "        qkt_scaled = torch.einsum(\"nqhd,nkhd->nhqk\", q, k) / math.sqrt(self.d_k)\n",
    "        if mask is not None:\n",
    "            qkt_scaled = qkt_scaled.masked_fill(mask == 0, float(\"-1e20\"))\n",
    "        sftmx = torch.softmax(qkt_scaled, dim=-1)\n",
    "\n",
    "        scores = torch.einsum(\"nhqk,nkhd->nqhd\", sftmx, v)\n",
    "        concat = scores.reshape(b_q, s_q, -1)\n",
    "\n",
    "        output = self.out(concat)\n",
    "        return output"
   ]
  },
  {
   "cell_type": "code",
   "execution_count": 5,
   "id": "b1911465-77f8-4496-9ce6-8d07eb5c454d",
   "metadata": {
    "execution": {
     "iopub.execute_input": "2025-08-07T17:57:35.788689Z",
     "iopub.status.busy": "2025-08-07T17:57:35.787690Z",
     "iopub.status.idle": "2025-08-07T17:57:35.794153Z",
     "shell.execute_reply": "2025-08-07T17:57:35.794153Z",
     "shell.execute_reply.started": "2025-08-07T17:57:35.788689Z"
    },
    "id": "b1911465-77f8-4496-9ce6-8d07eb5c454d"
   },
   "outputs": [],
   "source": [
    "class Encoder(nn.Module):\n",
    "    def __init__(self, embed_dim, key_dim, value_dim, num_heads):\n",
    "        super(Encoder, self).__init__()\n",
    "        self.embed_dim = embed_dim\n",
    "        self.d_k = key_dim\n",
    "        self.d_v = value_dim\n",
    "        self.num_heads = num_heads\n",
    "\n",
    "        self.MHA = MultiHeadAttention(self.embed_dim, self.d_k, self.d_v, self.num_heads)\n",
    "        self.norm1 = nn.LayerNorm(self.embed_dim)\n",
    "        self.ffn = nn.Sequential(\n",
    "            nn.Linear(self.embed_dim, 2 * self.embed_dim),\n",
    "            nn.ReLU(),\n",
    "            nn.Linear(2 * self.embed_dim, self.embed_dim)\n",
    "        )\n",
    "        self.norm2 = nn.LayerNorm(self.embed_dim)\n",
    "        self.drop1 = nn.Dropout(0.1)\n",
    "        self.drop2 = nn.Dropout(0.1)\n",
    "\n",
    "    def forward(self, x):\n",
    "        mha_output = self.MHA(x, x, x)\n",
    "        add_norm1 = self.norm1(mha_output + self.drop1(x))\n",
    "        ffn_output = self.ffn(add_norm1)\n",
    "        output = self.norm2(ffn_output + self.drop2(add_norm1))\n",
    "        return output"
   ]
  },
  {
   "cell_type": "code",
   "execution_count": 6,
   "id": "1a85a162-6f7f-4922-956a-724429dc6526",
   "metadata": {
    "execution": {
     "iopub.execute_input": "2025-08-07T17:57:35.955014Z",
     "iopub.status.busy": "2025-08-07T17:57:35.954015Z",
     "iopub.status.idle": "2025-08-07T17:57:35.961097Z",
     "shell.execute_reply": "2025-08-07T17:57:35.961097Z",
     "shell.execute_reply.started": "2025-08-07T17:57:35.955014Z"
    },
    "id": "1a85a162-6f7f-4922-956a-724429dc6526"
   },
   "outputs": [],
   "source": [
    "class Decoder(nn.Module):\n",
    "    def __init__(self, embed_dim, key_dim, value_dim, num_heads):\n",
    "        super(Decoder, self).__init__()\n",
    "        self.embed_dim = embed_dim\n",
    "        self.d_k = key_dim\n",
    "        self.d_v = value_dim\n",
    "        self.num_heads = num_heads\n",
    "\n",
    "        self.masked_MHA = MultiHeadAttention(self.embed_dim, self.d_k, self.d_v, self.num_heads)\n",
    "        self.norm1 = nn.LayerNorm(self.embed_dim)\n",
    "        self.cross_MHA = MultiHeadAttention(self.embed_dim, self.d_k, self.d_v, self.num_heads)\n",
    "        self.norm2 = nn.LayerNorm(self.embed_dim)\n",
    "        self.ffn = nn.Sequential(\n",
    "            nn.Linear(self.embed_dim, 2 * self.embed_dim),\n",
    "            nn.ReLU(),\n",
    "            nn.Linear(2 * self.embed_dim, self.embed_dim)\n",
    "        )\n",
    "        self.norm3 = nn.LayerNorm(self.embed_dim)\n",
    "        self.drop1 = nn.Dropout(0.1)\n",
    "        self.drop2 = nn.Dropout(0.1)\n",
    "        self.drop3 = nn.Dropout(0.1)\n",
    "\n",
    "    def forward(self, x, enc_output):\n",
    "        batch_size, trg_len, _ = x.shape\n",
    "        # returns the lower triangular part of matrix filled with ones\n",
    "        mask = torch.tril(torch.ones((trg_len, trg_len),  device=x.device)).expand(\n",
    "            batch_size, 1, trg_len, trg_len\n",
    "        )\n",
    "        masked_mha_output = self.masked_MHA(x, x, x, mask=mask)\n",
    "        add_norm1 = self.norm1(masked_mha_output + self.drop1(x))\n",
    "        cross_mha_output = self.cross_MHA(enc_output, add_norm1, enc_output)\n",
    "        add_norm2 = self.norm2(cross_mha_output + self.drop2(add_norm1))\n",
    "        ffn_output = self.ffn(add_norm2)\n",
    "        output = self.norm3(ffn_output + self.drop3(add_norm2))\n",
    "        # print(\"dec_output_type\", output.dtype)\n",
    "        return output"
   ]
  },
  {
   "cell_type": "code",
   "execution_count": 7,
   "id": "454cf7b5-0910-48f8-b1a3-ebd84c7803d3",
   "metadata": {
    "execution": {
     "iopub.execute_input": "2025-08-07T17:57:36.088050Z",
     "iopub.status.busy": "2025-08-07T17:57:36.088050Z",
     "iopub.status.idle": "2025-08-07T17:57:36.093175Z",
     "shell.execute_reply": "2025-08-07T17:57:36.093175Z",
     "shell.execute_reply.started": "2025-08-07T17:57:36.088050Z"
    },
    "id": "454cf7b5-0910-48f8-b1a3-ebd84c7803d3"
   },
   "outputs": [],
   "source": [
    "class Transformer(nn.Module):\n",
    "    def __init__(self, embed_dim, vocab_size_src, vocab_size_tgt, key_dim, value_dim, num_heads, num_encoder_layers=1, num_decoder_layers=1, max_seq_len=100):\n",
    "        super(Transformer, self).__init__()\n",
    "        self.embedding_src = nn.Embedding(vocab_size_src, embed_dim, padding_idx=1)\n",
    "        self.embedding_trg = nn.Embedding(vocab_size_tgt, embed_dim, padding_idx=1)\n",
    "        self.pe = PositionalEmbedding(max_seq_len, embed_dim)\n",
    "        self.encoder_layers = nn.ModuleList([\n",
    "            Encoder(embed_dim, key_dim, value_dim, num_heads)\n",
    "            for _ in range(num_encoder_layers)\n",
    "        ])\n",
    "        self.decoder_layers = nn.ModuleList([\n",
    "            Decoder(embed_dim, key_dim, value_dim, num_heads)\n",
    "            for _ in range(num_encoder_layers)\n",
    "        ])\n",
    "        self.out = nn.Linear(embed_dim, vocab_size_tgt)\n",
    "\n",
    "    def forward(self, x, y):\n",
    "        v_x = self.embedding_src(x)\n",
    "        v_x = self.pe(v_x)\n",
    "        v_y = self.embedding_trg(y)\n",
    "        v_y = self.pe(v_y)\n",
    "        for layer in self.encoder_layers:\n",
    "            v_x = layer(v_x)\n",
    "        for layer in self.decoder_layers:\n",
    "            v_y = layer(v_y, v_x)\n",
    "        logits = self.out(v_y)\n",
    "        probs = torch.softmax(logits, dim=-1)\n",
    "        preds = probs.max(dim=-1).indices\n",
    "        return logits"
   ]
  },
  {
   "cell_type": "markdown",
   "id": "k38fR5mZDT0x",
   "metadata": {
    "id": "k38fR5mZDT0x"
   },
   "source": [
    "### Training loop"
   ]
  },
  {
   "cell_type": "code",
   "execution_count": 8,
   "id": "C0MV-eba-ZG6",
   "metadata": {
    "id": "C0MV-eba-ZG6"
   },
   "outputs": [],
   "source": [
    "def train(model, device, train_loader, val_loader, num_epochs=10, learning_rate=1e-3, pad_idx=0, early_stop=False):\n",
    "    model.to(device)\n",
    "\n",
    "    criterion = nn.CrossEntropyLoss(ignore_index=pad_idx)\n",
    "    optimizer = torch.optim.Adam(model.parameters(), lr=learning_rate, betas=(0.9, 0.98), eps=1e-9)\n",
    "\n",
    "    train_losses = []\n",
    "    val_losses = []\n",
    "\n",
    "    best_val_loss = float('inf')\n",
    "    patience_counter = 0\n",
    "    patience_limit = 10\n",
    "    best_model_state = None\n",
    "\n",
    "    for epoch in tqdm(range(num_epochs)):\n",
    "        # Training\n",
    "        model.train()\n",
    "        total_loss = 0\n",
    "\n",
    "        for batch_idx, (src, tgt) in enumerate(train_loader):\n",
    "            src = src.to(device)\n",
    "            tgt = tgt.to(device)\n",
    "\n",
    "            tgt_input = tgt[:, :-1]\n",
    "            tgt_output = tgt[:, 1:]\n",
    "\n",
    "            logits = model(src, tgt_input)\n",
    "            # print(logits.dtype, tgt_output.dtype)\n",
    "            loss = criterion(logits.reshape(-1, logits.size(-1)), tgt_output.reshape(-1))\n",
    "            optimizer.zero_grad()\n",
    "            loss.backward()\n",
    "\n",
    "            torch.nn.utils.clip_grad_norm_(model.parameters(), max_norm=1.0)\n",
    "            optimizer.step()\n",
    "            total_loss += loss.item()\n",
    "\n",
    "        avg_train_loss = total_loss / len(train_loader)\n",
    "        train_losses.append(avg_train_loss)\n",
    "\n",
    "        # Validation\n",
    "        model.eval()\n",
    "        total_val_loss = 0\n",
    "        with torch.no_grad():\n",
    "            for src, tgt in val_loader:\n",
    "                src = src.to(device)\n",
    "                tgt = tgt.to(device)\n",
    "\n",
    "                tgt_input = tgt[:, :-1]\n",
    "                tgt_output = tgt[:, 1:]\n",
    "\n",
    "                logits = model(src, tgt_input)\n",
    "                loss = criterion(logits.reshape(-1, logits.size(-1)), tgt_output.reshape(-1))\n",
    "                total_val_loss += loss.item()\n",
    "\n",
    "        avg_val_loss = total_val_loss / len(val_loader)\n",
    "        val_losses.append(avg_val_loss)\n",
    "\n",
    "        # Early stopping logic\n",
    "        if early_stop:\n",
    "            if avg_val_loss < best_val_loss:\n",
    "                best_val_loss = avg_val_loss\n",
    "                best_model_state = model.state_dict()\n",
    "                patience_counter = 0\n",
    "            else:\n",
    "                patience_counter += 1\n",
    "                if patience_counter >= patience_limit:\n",
    "                    print(f\"Early stopping triggered at epoch {epoch+1}\")\n",
    "                    if best_model_state is not None:\n",
    "                        model.load_state_dict(best_model_state)\n",
    "                    return train_losses, val_losses\n",
    "\n",
    "    if early_stop and best_model_state is not None:\n",
    "        model.load_state_dict(best_model_state)\n",
    "\n",
    "    return train_losses, val_losses\n"
   ]
  },
  {
   "cell_type": "markdown",
   "id": "01JHraRAin3b",
   "metadata": {
    "id": "01JHraRAin3b"
   },
   "source": [
    "# Scaling Laws\n",
    "https://arxiv.org/abs/2001.08361"
   ]
  },
  {
   "cell_type": "markdown",
   "id": "W6IcTDOli95D",
   "metadata": {
    "id": "W6IcTDOli95D"
   },
   "source": [
    "## Law 1\n",
    "### Performance with Non-Embedding Parameter Count N\n",
    "\n",
    "$$\n",
    "L(N) \\approx \\left( \\frac{N_c}{N} \\right) ^{α_N}\n",
    "$$\n",
    "\n",
    "\n",
    "According to this law, given that the dataset size and the compute budget is fixed, the Loss follows a power law of N (the number of non-embedding parameters)\n",
    "\n",
    "**Calculation of Non-Embedding Parameters for basic transformers**\n",
    "$$\n",
    "N \\approx 12n_{layer}d_{model}^2\n",
    "$$\n",
    "\n",
    "So, we will use 3 different transformer model sizes to demonstrate this power law.\n",
    "The dataset size would be way less than the original paper and hence α may not completely match.\n",
    "\n",
    "But, there is one caveat. We need to fix Compute ($C \\approx 6\\cdot N\\cdot B\\cdot S$) for each of these models.\n",
    "\n",
    "Since, $ C \\propto N \\cdot S $ (if we keep the batch size and dataset fixed), therefore we will need to reduce the number of epochs accordingly for each model. Also, $S \\propto n_{epochs}$ so, finally $ C \\propto N \\cdot n_{epochs } $\n",
    "\n",
    "**Models Used**\n",
    "- **Tiny**\n",
    "    \n",
    "    $d_{model} = 64$, $ n_h = 4 $, $ n_{layer} = 2 $\n",
    "    \n",
    "    So, $ N \\approx 12 \\cdot 2 \\cdot 64^2 \\approx 0.09M $\n",
    "\n",
    "    $n_{epochs} = 9$\n",
    "\n",
    "- **Small**\n",
    "    \n",
    "    $d_{model} = 128$, $ n_h = 4 $, $ n_{layer} = 2 $\n",
    "    \n",
    "    So, $ N \\approx 12 \\cdot 2 \\cdot 128^2 \\approx 0.39M $\n",
    "\n",
    "    $n_{epochs} = 6$\n",
    "    \n",
    "- **Medium**\n",
    "    \n",
    "    $d_{model} = 256$, $ n_h = 8 $, $ n_{layer} = 1 $\n",
    "    \n",
    "    So, $ N \\approx 12 \\cdot 1 \\cdot 256^2 \\approx 0.78M $\n",
    "\n",
    "    $n_{epochs} = 3$\n",
    "\n",
    "Such specific values of number of epochs are chosen to fix the compute budget"
   ]
  },
  {
   "cell_type": "code",
   "execution_count": null,
   "id": "6dc93898",
   "metadata": {
    "colab": {
     "base_uri": "https://localhost:8080/"
    },
    "id": "6dc93898",
    "outputId": "cccfc154-0542-4cf9-b341-daa2a1fb02e1"
   },
   "outputs": [],
   "source": [
    "train_df, val_df = sample(df, 100000, 0.01)\n",
    "train_loader = get_loader(train_df, 50)\n",
    "val_loader = get_loader(val_df, 50)"
   ]
  },
  {
   "cell_type": "code",
   "execution_count": 24,
   "id": "DY4VJHzQAtX3",
   "metadata": {
    "id": "DY4VJHzQAtX3"
   },
   "outputs": [],
   "source": [
    "non_embedding_params = {}"
   ]
  },
  {
   "cell_type": "markdown",
   "id": "90c8fb2c",
   "metadata": {
    "id": "90c8fb2c"
   },
   "source": [
    "### Tiny"
   ]
  },
  {
   "cell_type": "code",
   "execution_count": 41,
   "id": "wcdp-I8T_hQ_",
   "metadata": {
    "id": "wcdp-I8T_hQ_"
   },
   "outputs": [],
   "source": [
    "model = Transformer(\n",
    "    embed_dim=64,\n",
    "    vocab_size_src=tkz_en.get_vocab_size(),\n",
    "    vocab_size_tgt=tkz_de.get_vocab_size(),\n",
    "    key_dim=64,\n",
    "    value_dim=64,\n",
    "    num_heads=4,\n",
    "    num_encoder_layers=2,\n",
    "    num_decoder_layers=2,\n",
    "    max_seq_len=250\n",
    ")"
   ]
  },
  {
   "cell_type": "code",
   "execution_count": 42,
   "id": "U5zy4_ZH_u7T",
   "metadata": {
    "id": "U5zy4_ZH_u7T"
   },
   "outputs": [],
   "source": [
    "non_embedding_params[\"tiny\"] = 0\n",
    "for name, param in model.named_parameters():\n",
    "    if \"embedding\" not in name and param.requires_grad:  # Exclude embedding parameters\n",
    "        non_embedding_params[\"tiny\"] += param.numel()"
   ]
  },
  {
   "cell_type": "code",
   "execution_count": 43,
   "id": "69a9dc2d",
   "metadata": {
    "id": "69a9dc2d"
   },
   "outputs": [],
   "source": [
    "device = torch.device('cuda' if torch.cuda.is_available() else 'cpu')\n",
    "train_loss = []\n",
    "val_loss = []"
   ]
  },
  {
   "cell_type": "code",
   "execution_count": 44,
   "id": "f6308aa5-d028-4617-abc3-f2ba2e059a37",
   "metadata": {
    "colab": {
     "base_uri": "https://localhost:8080/"
    },
    "id": "f6308aa5-d028-4617-abc3-f2ba2e059a37",
    "outputId": "b294ce02-d806-43cd-f360-38ec02b8e121"
   },
   "outputs": [
    {
     "name": "stderr",
     "output_type": "stream",
     "text": [
      "100%|██████████| 9/9 [15:46<00:00, 105.17s/it]\n"
     ]
    }
   ],
   "source": [
    "new_train_loss, new_val_loss = train(model, device, train_loader, val_loader, num_epochs=9, learning_rate=0.001, early_stop=False)\n",
    "train_loss.extend(new_train_loss)\n",
    "val_loss.extend(new_val_loss)"
   ]
  },
  {
   "cell_type": "code",
   "execution_count": null,
   "id": "oTFVf_vZiLjb",
   "metadata": {
    "id": "oTFVf_vZiLjb"
   },
   "outputs": [],
   "source": [
    "model.to(\"cpu\")\n",
    "torch.save({\"loss\": train_loss, \"val_loss\": val_loss,  \"model\": model.state_dict()}, \"tiny.pt\")\n",
    "model.to(\"cuda\")"
   ]
  },
  {
   "cell_type": "code",
   "execution_count": 46,
   "id": "v9JqajJuubcp",
   "metadata": {
    "id": "v9JqajJuubcp"
   },
   "outputs": [],
   "source": [
    "tiny_pt = torch.load(\"tiny.pt\", weights_only=False)\n",
    "train_loss = tiny_pt[\"loss\"]\n",
    "val_loss = tiny_pt[\"val_loss\"]"
   ]
  },
  {
   "cell_type": "code",
   "execution_count": 47,
   "id": "163bdf56",
   "metadata": {
    "colab": {
     "base_uri": "https://localhost:8080/",
     "height": 426
    },
    "id": "163bdf56",
    "outputId": "02e51fa2-6033-44c9-9574-b270a1c2e675"
   },
   "outputs": [
    {
     "data": {
      "text/plain": [
       "[<matplotlib.lines.Line2D at 0x7fa8df80f210>]"
      ]
     },
     "execution_count": 47,
     "metadata": {},
     "output_type": "execute_result"
    },
    {
     "data": {
      "image/png": "[encoded data removed]",
      "text/plain": [
       "<Figure size 1200x400 with 2 Axes>"
      ]
     },
     "metadata": {},
     "output_type": "display_data"
    }
   ],
   "source": [
    "fig, ax = plt.subplots(nrows=1, ncols=2, figsize=(12, 4))\n",
    "fig.suptitle(\"Losses for Tiny model\")\n",
    "\n",
    "ax[0].set_title(\"Train Loss\")\n",
    "ax[0].plot(train_loss)\n",
    "\n",
    "ax[1].set_title(\"Val Loss\")\n",
    "ax[1].plot(val_loss)"
   ]
  },
  {
   "cell_type": "code",
   "execution_count": 48,
   "id": "vjwF_acDuiT6",
   "metadata": {
    "id": "vjwF_acDuiT6"
   },
   "outputs": [],
   "source": [
    "final_loss_tiny = train_loss[-1]"
   ]
  },
  {
   "cell_type": "markdown",
   "id": "OfMn5HOkisqC",
   "metadata": {
    "id": "OfMn5HOkisqC"
   },
   "source": [
    "### Small"
   ]
  },
  {
   "cell_type": "code",
   "execution_count": 49,
   "id": "dDBfMDUxisqD",
   "metadata": {
    "id": "dDBfMDUxisqD"
   },
   "outputs": [],
   "source": [
    "\n",
    "model = Transformer(\n",
    "    embed_dim=128,\n",
    "    vocab_size_src=tkz_en.get_vocab_size(),\n",
    "    vocab_size_tgt=tkz_de.get_vocab_size(),\n",
    "    key_dim=128,\n",
    "    value_dim=128,\n",
    "    num_heads=4,\n",
    "    num_encoder_layers=2,\n",
    "    num_decoder_layers=2,\n",
    "    max_seq_len=250\n",
    ")"
   ]
  },
  {
   "cell_type": "code",
   "execution_count": 50,
   "id": "oXTJyoxCA-yy",
   "metadata": {
    "id": "oXTJyoxCA-yy"
   },
   "outputs": [],
   "source": [
    "non_embedding_params[\"small\"] = 0\n",
    "for name, param in model.named_parameters():\n",
    "    if \"embedding\" not in name and param.requires_grad:  # Exclude embedding parameters\n",
    "        non_embedding_params[\"small\"] += param.numel()"
   ]
  },
  {
   "cell_type": "code",
   "execution_count": 51,
   "id": "ZXaT3sVLisqD",
   "metadata": {
    "id": "ZXaT3sVLisqD"
   },
   "outputs": [],
   "source": [
    "device = torch.device('cuda' if torch.cuda.is_available() else 'cpu')\n",
    "train_loss = []\n",
    "val_loss = []"
   ]
  },
  {
   "cell_type": "code",
   "execution_count": 70,
   "id": "GZ-G8axjisqD",
   "metadata": {
    "colab": {
     "base_uri": "https://localhost:8080/"
    },
    "id": "GZ-G8axjisqD",
    "outputId": "968127d5-2e3e-4955-ff36-c2ccf42afeaf"
   },
   "outputs": [
    {
     "name": "stderr",
     "output_type": "stream",
     "text": [
      "100%|██████████| 3/3 [06:11<00:00, 123.88s/it]\n"
     ]
    }
   ],
   "source": [
    "new_train_loss, new_val_loss = train(model, device, train_loader, val_loader, num_epochs=6, learning_rate=0.001, early_stop=False)\n",
    "train_loss.extend(new_train_loss)\n",
    "val_loss.extend(new_val_loss)"
   ]
  },
  {
   "cell_type": "code",
   "execution_count": null,
   "id": "yhcsrnM9isqD",
   "metadata": {
    "id": "yhcsrnM9isqD"
   },
   "outputs": [],
   "source": [
    "model.to(\"cpu\")\n",
    "torch.save({\"loss\": train_loss, \"val_loss\": val_loss,  \"model\": model.state_dict()}, \"small.pt\")\n",
    "model.to(\"cuda\")"
   ]
  },
  {
   "cell_type": "code",
   "execution_count": 101,
   "id": "i14AyhW-r3dp",
   "metadata": {
    "id": "i14AyhW-r3dp"
   },
   "outputs": [],
   "source": [
    "small_pt = torch.load(\"small.pt\", weights_only=False)\n",
    "train_loss = small_pt[\"loss\"]\n",
    "val_loss = small_pt[\"val_loss\"]"
   ]
  },
  {
   "cell_type": "code",
   "execution_count": 72,
   "id": "mv_29JrvisqD",
   "metadata": {
    "colab": {
     "base_uri": "https://localhost:8080/",
     "height": 426
    },
    "id": "mv_29JrvisqD",
    "outputId": "7140fef1-8e68-45d2-fa42-db6f63ff8059"
   },
   "outputs": [
    {
     "data": {
      "text/plain": [
       "[<matplotlib.lines.Line2D at 0x7fa8ddec4810>]"
      ]
     },
     "execution_count": 72,
     "metadata": {},
     "output_type": "execute_result"
    },
    {
     "data": {
      "image/png": "[encoded data removed]",
      "text/plain": [
       "<Figure size 1200x400 with 2 Axes>"
      ]
     },
     "metadata": {},
     "output_type": "display_data"
    }
   ],
   "source": [
    "fig, ax = plt.subplots(nrows=1, ncols=2, figsize=(12, 4))\n",
    "fig.suptitle(\"Losses for Small model\")\n",
    "\n",
    "ax[0].set_title(\"Train Loss\")\n",
    "ax[0].plot(train_loss)\n",
    "\n",
    "ax[1].set_title(\"Val Loss\")\n",
    "ax[1].plot(val_loss)"
   ]
  },
  {
   "cell_type": "code",
   "execution_count": 73,
   "id": "gwTQZ4LTsZGX",
   "metadata": {
    "id": "gwTQZ4LTsZGX"
   },
   "outputs": [],
   "source": [
    "final_loss_small = train_loss[-1]"
   ]
  },
  {
   "cell_type": "markdown",
   "id": "9rIRFeick9e5",
   "metadata": {
    "id": "9rIRFeick9e5"
   },
   "source": [
    "### Medium"
   ]
  },
  {
   "cell_type": "code",
   "execution_count": 57,
   "id": "FvQ52mtfk9e6",
   "metadata": {
    "id": "FvQ52mtfk9e6"
   },
   "outputs": [],
   "source": [
    "\n",
    "model = Transformer(\n",
    "    embed_dim=256,\n",
    "    vocab_size_src=tkz_en.get_vocab_size(),\n",
    "    vocab_size_tgt=tkz_de.get_vocab_size(),\n",
    "    key_dim=256,\n",
    "    value_dim=256,\n",
    "    num_heads=8,\n",
    "    num_encoder_layers=1,\n",
    "    num_decoder_layers=1,\n",
    "    max_seq_len=250\n",
    ")"
   ]
  },
  {
   "cell_type": "code",
   "execution_count": 58,
   "id": "WJ5J1mbzBDqR",
   "metadata": {
    "id": "WJ5J1mbzBDqR"
   },
   "outputs": [],
   "source": [
    "non_embedding_params[\"medium\"] = 0\n",
    "for name, param in model.named_parameters():\n",
    "    if \"embedding\" not in name and param.requires_grad:  # Exclude embedding parameters\n",
    "        non_embedding_params[\"medium\"] += param.numel()"
   ]
  },
  {
   "cell_type": "code",
   "execution_count": 59,
   "id": "-xkNXSoHBG5o",
   "metadata": {
    "colab": {
     "base_uri": "https://localhost:8080/"
    },
    "id": "-xkNXSoHBG5o",
    "outputId": "7773fbe6-58d3-4be6-d8fd-433c218c1c3f"
   },
   "outputs": [
    {
     "data": {
      "text/plain": [
       "{'tiny': 1544608, 'small': 3544352, 'medium': 7850272}"
      ]
     },
     "execution_count": 59,
     "metadata": {},
     "output_type": "execute_result"
    }
   ],
   "source": [
    "non_embedding_params"
   ]
  },
  {
   "cell_type": "code",
   "execution_count": 60,
   "id": "lAOSqbPpk9e6",
   "metadata": {
    "id": "lAOSqbPpk9e6"
   },
   "outputs": [],
   "source": [
    "device = torch.device('cuda' if torch.cuda.is_available() else 'cpu')\n",
    "train_loss = []\n",
    "val_loss = []"
   ]
  },
  {
   "cell_type": "code",
   "execution_count": 77,
   "id": "koT1WWl5k9e6",
   "metadata": {
    "colab": {
     "base_uri": "https://localhost:8080/"
    },
    "id": "koT1WWl5k9e6",
    "outputId": "b0ced4d2-c669-4331-fdf5-57f4640e66d8"
   },
   "outputs": [
    {
     "name": "stderr",
     "output_type": "stream",
     "text": [
      "100%|██████████| 2/2 [04:04<00:00, 122.45s/it]\n"
     ]
    }
   ],
   "source": [
    "new_train_loss, new_val_loss = train(model, device, train_loader, val_loader, num_epochs=3, learning_rate=0.001, early_stop=False)\n",
    "train_loss.extend(new_train_loss)\n",
    "val_loss.extend(new_val_loss)"
   ]
  },
  {
   "cell_type": "code",
   "execution_count": null,
   "id": "dbOMIybIk9e7",
   "metadata": {
    "id": "dbOMIybIk9e7"
   },
   "outputs": [],
   "source": [
    "model.to(\"cpu\")\n",
    "torch.save({\"loss\": train_loss, \"val_loss\": val_loss,  \"model\": model.state_dict()}, \"medium.pt\")\n",
    "model.to(\"cuda\")"
   ]
  },
  {
   "cell_type": "code",
   "execution_count": 75,
   "id": "CTQHnfI9u4qV",
   "metadata": {
    "id": "CTQHnfI9u4qV"
   },
   "outputs": [],
   "source": [
    "medium_pt = torch.load(\"medium.pt\", weights_only=False)\n",
    "train_loss = medium_pt[\"loss\"]\n",
    "val_loss = medium_pt[\"val_loss\"]"
   ]
  },
  {
   "cell_type": "code",
   "execution_count": 79,
   "id": "DLerxqV9k9e6",
   "metadata": {
    "colab": {
     "base_uri": "https://localhost:8080/",
     "height": 426
    },
    "id": "DLerxqV9k9e6",
    "outputId": "a12af1ef-40e4-4d22-ae34-ed7a88504697"
   },
   "outputs": [
    {
     "data": {
      "text/plain": [
       "[<matplotlib.lines.Line2D at 0x7fa8dd823e50>]"
      ]
     },
     "execution_count": 79,
     "metadata": {},
     "output_type": "execute_result"
    },
    {
     "data": {
      "image/png": "[encoded data removed]",
      "text/plain": [
       "<Figure size 1200x400 with 2 Axes>"
      ]
     },
     "metadata": {},
     "output_type": "display_data"
    }
   ],
   "source": [
    "fig, ax = plt.subplots(nrows=1, ncols=2, figsize=(12, 4))\n",
    "fig.suptitle(\"Losses for Medium model\")\n",
    "\n",
    "ax[0].set_title(\"Train Loss\")\n",
    "ax[0].plot(train_loss)\n",
    "\n",
    "ax[1].set_title(\"Val Loss\")\n",
    "ax[1].plot(val_loss)"
   ]
  },
  {
   "cell_type": "code",
   "execution_count": 80,
   "id": "mtR6axv6vPGC",
   "metadata": {
    "id": "mtR6axv6vPGC"
   },
   "outputs": [],
   "source": [
    "final_loss_medium = train_loss[-1]"
   ]
  },
  {
   "cell_type": "code",
   "execution_count": 82,
   "id": "95h0yVdhNONB",
   "metadata": {
    "colab": {
     "base_uri": "https://localhost:8080/"
    },
    "id": "95h0yVdhNONB",
    "outputId": "8318c5df-e3c3-4707-9f76-e7ced8e1636d"
   },
   "outputs": [
    {
     "data": {
      "text/plain": [
       "1.7681366270539736"
      ]
     },
     "execution_count": 82,
     "metadata": {},
     "output_type": "execute_result"
    }
   ],
   "source": [
    "final_loss_medium"
   ]
  },
  {
   "cell_type": "markdown",
   "id": "fVChOO3evT0l",
   "metadata": {
    "id": "fVChOO3evT0l"
   },
   "source": [
    "### Combining results"
   ]
  },
  {
   "cell_type": "code",
   "execution_count": 83,
   "id": "kpcDQJqMvZIM",
   "metadata": {
    "colab": {
     "base_uri": "https://localhost:8080/",
     "height": 466
    },
    "id": "kpcDQJqMvZIM",
    "outputId": "12edd8fc-d2ef-4bdc-8af9-6036f114701e"
   },
   "outputs": [
    {
     "data": {
      "text/plain": [
       "<matplotlib.collections.PathCollection at 0x7fa8dcfe8090>"
      ]
     },
     "execution_count": 83,
     "metadata": {},
     "output_type": "execute_result"
    },
    {
     "data": {
      "image/png": "[encoded data removed]",
      "text/plain": [
       "<Figure size 640x480 with 1 Axes>"
      ]
     },
     "metadata": {},
     "output_type": "display_data"
    }
   ],
   "source": [
    "loss_dict_1 = {\n",
    "    non_embedding_params[\"tiny\"]: final_loss_tiny,\n",
    "    non_embedding_params[\"small\"]: final_loss_small,\n",
    "    non_embedding_params[\"medium\"]: final_loss_medium\n",
    "}\n",
    "plt.scatter(loss_dict_1.keys(), loss_dict_1.values())"
   ]
  },
  {
   "cell_type": "markdown",
   "id": "1p8BEpH3Owkj",
   "metadata": {
    "id": "1p8BEpH3Owkj"
   },
   "source": [
    "### Best fitting curve\n",
    "This looks very similar to the expected graph of $ L \\propto N^{-\\alpha_N} $.\n",
    "\n",
    "Now, to find the proportionality constant $k$ and power constant $\\alpha_N$, we can create a simple regression model and get the best fitting curve.\n"
   ]
  },
  {
   "cell_type": "code",
   "execution_count": 96,
   "id": "jwm3s7W-PYQb",
   "metadata": {
    "colab": {
     "base_uri": "https://localhost:8080/",
     "height": 485
    },
    "id": "jwm3s7W-PYQb",
    "outputId": "7fed80db-fae8-449c-d867-9696c89771ae"
   },
   "outputs": [
    {
     "name": "stderr",
     "output_type": "stream",
     "text": [
      "/tmp/ipython-input-61833338.py:4: RuntimeWarning: overflow encountered in power\n",
      "  return k * x**(-alpha)\n"
     ]
    },
    {
     "data": {
      "image/png": "[encoded data removed]",
      "text/plain": [
       "<Figure size 640x480 with 1 Axes>"
      ]
     },
     "metadata": {},
     "output_type": "display_data"
    }
   ],
   "source": [
    "from scipy.optimize import curve_fit\n",
    "\n",
    "def curve(x, k, alpha):\n",
    "    return k * x**(-alpha)\n",
    "\n",
    "x = np.array(list(loss_dict_1.keys()))\n",
    "y = np.array(list(loss_dict_1.values()))\n",
    "\n",
    "popt, pcov = curve_fit(curve, x, y)\n",
    "k, alpha = popt\n",
    "\n",
    "x_grid = np.linspace(x.min()*0.8, x.max()*1.2, 300)\n",
    "y_fit = curve(x_grid, k, alpha)\n",
    "\n",
    "plt.scatter(x, y, label='data', color=\"orange\")\n",
    "plt.plot(x_grid, y_fit, label=f'fit: k={k:.3g}, αN={alpha:.3g}')\n",
    "plt.xlabel('x'); plt.ylabel('y'); plt.legend()\n",
    "plt.show()"
   ]
  },
  {
   "cell_type": "markdown",
   "id": "btVe2IQWU0TI",
   "metadata": {
    "id": "btVe2IQWU0TI"
   },
   "source": [
    "### Final Result\n",
    "The original paper has the value\n",
    "$$\n",
    "\\alpha_N = 0.076\n",
    "$$\n",
    "but the value we get is\n",
    "$$\n",
    "\\alpha_N^* = 0.134\n",
    "$$\n",
    "\n",
    "Although, it is far away from the expected value, it is interesting to see that all the points lie (almost) on a power law curve.\n",
    "\n",
    "The different values could be due to the following reasons\n",
    "- The author practically has infinite dataset size ($D$) and compute ($C$) which allows for more accurate results.\n",
    "- I ensured that each model received similar amount of compute (FLOPS) by making sure the product of $N$ and $n_{epochs}$ remains almost same in each case. However, the author suggests we let atleast the base model (least parametric size) reach low enough loss and then change the epochs, and update frequency etcetera of other models, based on that. I could not do that here, because I did not have enough compute available."
   ]
  },
  {
   "cell_type": "markdown",
   "id": "XTyY_zptmYja",
   "metadata": {
    "id": "XTyY_zptmYja"
   },
   "source": [
    "## Law 2\n",
    "### Performance with Dataset Size D\n",
    "\n",
    "$$\n",
    "L(N) \\approx \\left( \\frac{D_c}{D} \\right) ^{α_D}\n",
    "$$\n",
    "\n",
    "\n",
    "According to this law, given that the number of parameters N is fixed and sufficient and the compute budget is optimal, the Loss follows a power law of D (the number of non-embedding parameters)\n",
    "\n",
    "\n",
    "\n",
    "Again, we will use 4 different dataset sizes to demonstrate this power law.\n",
    "The model size would be way less than the original paper and hence α may not completely match.\n",
    "\n",
    "The caveat in this one is that we will fix the number of epochs in all cases. In that way, $S$ (training steps) will increase, hence compute remains optimal (since batch size $B$ will be fixed, and dataset size $D$ increases therefore $S$ increases.\n",
    "\n",
    "**Fixed Model Size**\n",
    "    \n",
    "$d_{model} = 128$, $ n_h = 4 $, $ n_{layer} = 2 $\n",
    "    \n",
    "So, $ N \\approx 12 \\cdot 2 \\cdot 128^2 \\approx 0.39M $\n",
    "\n",
    "**Models Used**\n",
    "\n",
    "- **Tiny**\n",
    "    \n",
    "    $D = 10,000$ sentence pairs\n",
    "\n",
    "- **Small**\n",
    "    \n",
    "    $D = 25,000$ sentence pairs\n",
    "    \n",
    "- **Medium**\n",
    "    \n",
    "    $D = 50,000$ sentence pairs\n",
    "\n",
    "- **Large**\n",
    "    \n",
    "    $D = 100,000$ sentence pairs\n"
   ]
  },
  {
   "cell_type": "markdown",
   "id": "C5JqZyUOvSg4",
   "metadata": {
    "id": "C5JqZyUOvSg4"
   },
   "source": []
  },
  {
   "cell_type": "code",
   "execution_count": null,
   "id": "sqdhbVKmmYjc",
   "metadata": {
    "id": "sqdhbVKmmYjc"
   },
   "outputs": [],
   "source": [
    "\n",
    "model = Transformer(\n",
    "    embed_dim=128,\n",
    "    vocab_size_src=tkz_en.get_vocab_size(),\n",
    "    vocab_size_tgt=tkz_de.get_vocab_size(),\n",
    "    key_dim=128,\n",
    "    value_dim=128,\n",
    "    num_heads=4,\n",
    "    num_encoder_layers=2,\n",
    "    num_decoder_layers=2,\n",
    "    max_seq_len=250\n",
    ")"
   ]
  },
  {
   "cell_type": "code",
   "execution_count": null,
   "id": "8gjMFAsfmYjc",
   "metadata": {
    "id": "8gjMFAsfmYjc"
   },
   "outputs": [],
   "source": [
    "device = torch.device('cuda' if torch.cuda.is_available() else 'cpu')"
   ]
  },
  {
   "cell_type": "markdown",
   "id": "-kb0NbuULic-",
   "metadata": {
    "id": "-kb0NbuULic-"
   },
   "source": [
    "### Tiny"
   ]
  },
  {
   "cell_type": "code",
   "execution_count": null,
   "id": "G_-XlXKGLic-",
   "metadata": {
    "id": "G_-XlXKGLic-"
   },
   "outputs": [],
   "source": [
    "train_df, val_df = sample(df, 10000, 0.01)\n",
    "train_loader = get_loader(train_df, 50)\n",
    "val_loader = get_loader(val_df, 50)"
   ]
  },
  {
   "cell_type": "code",
   "execution_count": null,
   "id": "rWjEAsw7Lic_",
   "metadata": {
    "colab": {
     "base_uri": "https://localhost:8080/"
    },
    "id": "rWjEAsw7Lic_",
    "outputId": "464eb128-425a-4e6f-978c-f0ad6948d559"
   },
   "outputs": [
    {
     "name": "stderr",
     "output_type": "stream",
     "text": [
      " 33%|███▎      | 1/3 [00:10<00:21, 10.69s/it]"
     ]
    },
    {
     "name": "stderr",
     "output_type": "stream",
     "text": [
      "100%|██████████| 3/3 [00:30<00:00, 10.04s/it]\n"
     ]
    }
   ],
   "source": [
    "train_loss, val_loss = train(model, device, train_loader, val_loader, num_epochs=3, learning_rate=0.001, early_stop=False)"
   ]
  },
  {
   "cell_type": "code",
   "execution_count": null,
   "id": "bcc8bYKyLic_",
   "metadata": {
    "id": "bcc8bYKyLic_"
   },
   "outputs": [],
   "source": [
    "model.to(\"cpu\")\n",
    "torch.save({\"loss\": train_loss, \"val_loss\": val_loss,  \"model\": model.state_dict()}, \"tiny_2.pt\")\n",
    "model.to(\"cuda\")"
   ]
  },
  {
   "cell_type": "code",
   "execution_count": null,
   "id": "VeJagR3RLic_",
   "metadata": {
    "id": "VeJagR3RLic_"
   },
   "outputs": [],
   "source": [
    "final_loss_tiny = train_loss[-1]"
   ]
  },
  {
   "cell_type": "markdown",
   "id": "-rVSzvbvLic_",
   "metadata": {
    "id": "-rVSzvbvLic_"
   },
   "source": [
    "### Small"
   ]
  },
  {
   "cell_type": "code",
   "execution_count": null,
   "id": "QC5yVd04Lic_",
   "metadata": {
    "id": "QC5yVd04Lic_"
   },
   "outputs": [],
   "source": [
    "train_df, val_df = sample(df, 25000, 0.01)\n",
    "train_loader = get_loader(train_df, 50)\n",
    "val_loader = get_loader(val_df, 50)"
   ]
  },
  {
   "cell_type": "code",
   "execution_count": null,
   "id": "AUNAhG00LidA",
   "metadata": {
    "colab": {
     "base_uri": "https://localhost:8080/"
    },
    "id": "AUNAhG00LidA",
    "outputId": "464eb128-425a-4e6f-978c-f0ad6948d559"
   },
   "outputs": [
    {
     "name": "stderr",
     "output_type": "stream",
     "text": [
      "100%|██████████| 3/3 [01:13<00:00, 24.57s/it]\n"
     ]
    }
   ],
   "source": [
    "train_loss, val_loss = train(model, device, train_loader, val_loader, num_epochs=3, learning_rate=0.001, early_stop=False)"
   ]
  },
  {
   "cell_type": "code",
   "execution_count": null,
   "id": "CBYszGlFLidA",
   "metadata": {
    "id": "CBYszGlFLidA"
   },
   "outputs": [],
   "source": [
    "model.to(\"cpu\")\n",
    "torch.save({\"loss\": train_loss, \"val_loss\": val_loss,  \"model\": model.state_dict()}, \"small_2.pt\")\n",
    "model.to(\"cuda\")"
   ]
  },
  {
   "cell_type": "code",
   "execution_count": null,
   "id": "G1oPNl1ILidA",
   "metadata": {
    "id": "G1oPNl1ILidA"
   },
   "outputs": [],
   "source": [
    "final_loss_small = train_loss[-1]"
   ]
  },
  {
   "cell_type": "markdown",
   "id": "3d8cd46c",
   "metadata": {
    "id": "3d8cd46c"
   },
   "source": [
    "### Medium"
   ]
  },
  {
   "cell_type": "code",
   "execution_count": null,
   "id": "806a8dc0",
   "metadata": {
    "id": "806a8dc0"
   },
   "outputs": [],
   "source": [
    "train_df, val_df = sample(df, 50000, 0.01)\n",
    "train_loader = get_loader(train_df, 50)\n",
    "val_loader = get_loader(val_df, 50)"
   ]
  },
  {
   "cell_type": "code",
   "execution_count": null,
   "id": "01003dc2",
   "metadata": {
    "id": "01003dc2",
    "outputId": "438576e1-e757-4991-b6e1-3bcf9fa86fb4"
   },
   "outputs": [
    {
     "name": "stderr",
     "output_type": "stream",
     "text": [
      "100%|██████████| 3/3 [02:25<00:00, 48.51s/it]\n"
     ]
    }
   ],
   "source": [
    "train_loss, val_loss = train(model, device, train_loader, val_loader, num_epochs=3, learning_rate=0.001, early_stop=False)"
   ]
  },
  {
   "cell_type": "code",
   "execution_count": null,
   "id": "715557b3",
   "metadata": {
    "id": "715557b3"
   },
   "outputs": [],
   "source": [
    "model.to(\"cpu\")\n",
    "torch.save({\"loss\": train_loss, \"val_loss\": val_loss,  \"model\": model.state_dict()}, \"medium_2.pt\")\n",
    "model.to(\"cuda\")"
   ]
  },
  {
   "cell_type": "code",
   "execution_count": null,
   "id": "8ce50889",
   "metadata": {
    "id": "8ce50889"
   },
   "outputs": [],
   "source": [
    "final_loss_medium = train_loss[-1]"
   ]
  },
  {
   "cell_type": "markdown",
   "id": "03b2765b",
   "metadata": {
    "id": "03b2765b"
   },
   "source": [
    "### Large"
   ]
  },
  {
   "cell_type": "code",
   "execution_count": null,
   "id": "2af64f47",
   "metadata": {
    "id": "2af64f47"
   },
   "outputs": [],
   "source": [
    "train_df, val_df = sample(df, 100000, 0.01)\n",
    "train_loader = get_loader(train_df, 50)\n",
    "val_loader = get_loader(val_df, 50)"
   ]
  },
  {
   "cell_type": "code",
   "execution_count": null,
   "id": "3b9f047c",
   "metadata": {
    "id": "3b9f047c",
    "outputId": "18ad6b16-46b0-4241-8453-b1c7bb256354"
   },
   "outputs": [
    {
     "name": "stderr",
     "output_type": "stream",
     "text": [
      "100%|██████████| 3/3 [04:55<00:00, 98.49s/it]\n"
     ]
    }
   ],
   "source": [
    "train_loss, val_loss = train(model, device, train_loader, val_loader, num_epochs=3, learning_rate=0.001, early_stop=False)"
   ]
  },
  {
   "cell_type": "code",
   "execution_count": null,
   "id": "1438db9a",
   "metadata": {
    "id": "1438db9a"
   },
   "outputs": [],
   "source": [
    "model.to(\"cpu\")\n",
    "torch.save({\"loss\": train_loss, \"val_loss\": val_loss,  \"model\": model.state_dict()}, \"large_2.pt\")\n",
    "model.to(\"cuda\")"
   ]
  },
  {
   "cell_type": "code",
   "execution_count": null,
   "id": "b67e94ce",
   "metadata": {
    "id": "b67e94ce"
   },
   "outputs": [],
   "source": [
    "final_loss_large = train_loss[-1]"
   ]
  },
  {
   "cell_type": "markdown",
   "id": "2bb2087a",
   "metadata": {
    "id": "2bb2087a"
   },
   "source": [
    "### Combining results"
   ]
  },
  {
   "cell_type": "code",
   "execution_count": null,
   "id": "98caea6d",
   "metadata": {
    "id": "98caea6d",
    "outputId": "dda37132-18fd-45c4-f22f-ac1ba42ce71c"
   },
   "outputs": [
    {
     "data": {
      "text/plain": [
       "<matplotlib.collections.PathCollection at 0x7f2bf16b4370>"
      ]
     },
     "execution_count": 41,
     "metadata": {},
     "output_type": "execute_result"
    },
    {
     "data": {
      "image/png": "[encoded data removed]",
      "text/plain": [
       "<Figure size 640x480 with 1 Axes>"
      ]
     },
     "metadata": {},
     "output_type": "display_data"
    }
   ],
   "source": [
    "loss_dict_2 = {\n",
    "    10000: final_loss_tiny,\n",
    "    25000: final_loss_small,\n",
    "    50000: final_loss_medium,\n",
    "    100000: final_loss_large\n",
    "}\n",
    "plt.scatter(loss_dict_2.keys(), loss_dict_2.values())"
   ]
  },
  {
   "cell_type": "markdown",
   "id": "i15Gc0GSSXin",
   "metadata": {
    "id": "i15Gc0GSSXin"
   },
   "source": [
    "### Best fitting curve\n",
    "This looks very similar to the expected graph of $ L \\propto D^{-\\alpha_D} $.\n",
    "\n",
    "Now, to find the proportionality constant $k$ and power constant $\\alpha_D$, we can create a simple regression model and get the best fitting curve.\n"
   ]
  },
  {
   "cell_type": "code",
   "execution_count": 100,
   "id": "c_gzIeZNQixq",
   "metadata": {
    "colab": {
     "base_uri": "https://localhost:8080/",
     "height": 485
    },
    "id": "c_gzIeZNQixq",
    "outputId": "96295c4a-954b-4fda-e3b5-c51011c25278"
   },
   "outputs": [
    {
     "name": "stderr",
     "output_type": "stream",
     "text": [
      "/tmp/ipython-input-4126779292.py:4: RuntimeWarning: overflow encountered in power\n",
      "  return k*x**(-alpha)\n"
     ]
    },
    {
     "data": {
      "image/png": "[encoded data removed]",
      "text/plain": [
       "<Figure size 640x480 with 1 Axes>"
      ]
     },
     "metadata": {},
     "output_type": "display_data"
    }
   ],
   "source": [
    "from scipy.optimize import curve_fit\n",
    "\n",
    "def curve(x, k, alpha):\n",
    "    return k*x**(-alpha)\n",
    "\n",
    "x = np.array(list(loss_dict_2.keys()))\n",
    "y = np.array(list(loss_dict_2.values()))\n",
    "\n",
    "popt, pcov = curve_fit(curve, x, y)\n",
    "k, alpha = popt\n",
    "\n",
    "x_grid = np.linspace(x.min()*0.8, x.max()*1.2, 300)\n",
    "y_fit = curve(x_grid, k, alpha)\n",
    "\n",
    "plt.scatter(x, y, label='data', c=\"orange\")\n",
    "plt.plot(x_grid, y_fit, label=f'fit: k={k:.3g}, αD={alpha:.3g}')\n",
    "\n",
    "plt.xlabel('Dataset Size (D)'); plt.ylabel('Loss (L)'); plt.legend()\n",
    "plt.show()"
   ]
  },
  {
   "cell_type": "markdown",
   "id": "d-QIqZHTStbt",
   "metadata": {
    "id": "d-QIqZHTStbt"
   },
   "source": [
    "### Final Result\n",
    "The original paper has the value\n",
    "$$\n",
    "\\alpha_D = 0.095\n",
    "$$\n",
    "but the value we get is\n",
    "$$\n",
    "\\alpha_D^* = 0.163\n",
    "$$\n",
    "\n",
    "Although, it is far away from the expected value, it is interesting to see that all the points lie on a power law curve.\n",
    "\n",
    "The different values could be due to the following reasons\n",
    "- The author practically has infinite model size ($N$) and compute ($C$) which allows for more accurate results.\n",
    "- We finished training for all models at the 3rd epoch (so that we could ensure optimal compute for each dataset size) but technically it should go on till loss has reached minima. The author also encourages to use techniques like early stopping (to avoid overfit) for the demonstration of this law."
   ]
  },
  {
   "cell_type": "markdown",
   "id": "nL6MHm4wWNO5",
   "metadata": {
    "id": "nL6MHm4wWNO5"
   },
   "source": [
    "## Interesting Observation\n",
    "If we take the ratio of expected alphas and computed alphas i.e\n",
    "$$\n",
    "\\frac{\\alpha_N}{\\alpha_D} = \\frac{0.095}{0.076} ≈ 1.25\n",
    "$$\n",
    "and\n",
    "$$\n",
    "\\frac{\\alpha_N^*}{\\alpha_D^*} = \\frac{0.095}{0.076} ≈ 1.22\n",
    "$$  \n",
    "\n",
    "it is very close. This could indicate the reasons for not getting same results as the paper could be non-ideal compute and dataset size."
   ]
  },
  {
   "cell_type": "code",
   "execution_count": null,
   "id": "0NljTuTKQmwA",
   "metadata": {
    "id": "0NljTuTKQmwA"
   },
   "outputs": [],
   "source": []
  }
 ],
 "metadata": {
  "accelerator": "GPU",
  "colab": {
   "gpuType": "T4",
   "provenance": []
  },
  "kernelspec": {
   "display_name": "Python 3 (ipykernel)",
   "language": "python",
   "name": "python3"
  },
  "language_info": {
   "codemirror_mode": {
    "name": "ipython",
    "version": 3
   },
   "file_extension": ".py",
   "mimetype": "text/x-python",
   "name": "python",
   "nbconvert_exporter": "python",
   "pygments_lexer": "ipython3",
   "version": "3.12.7"
  },
  "widgets": {
   "application/vnd.jupyter.widget-state+json": {
    "00049019c61747f4861e495925a83f86": {
     "model_module": "@jupyter-widgets/controls",
     "model_module_version": "1.5.0",
     "model_name": "HBoxModel",
     "state": {
      "_dom_classes": [],
      "_model_module": "@jupyter-widgets/controls",
      "_model_module_version": "1.5.0",
      "_model_name": "HBoxModel",
      "_view_count": null,
      "_view_module": "@jupyter-widgets/controls",
      "_view_module_version": "1.5.0",
      "_view_name": "HBoxView",
      "box_style": "",
      "children": [
       "IPY_MODEL_df5749ad395d4c3b81d191b7ee639482",
       "IPY_MODEL_00451b0b171e4f3898f0a597675bf64e",
       "IPY_MODEL_f2325f9e1c1843b0941a7e2ce40e83c2"
      ],
      "layout": "IPY_MODEL_751b44ccb4224ff2b810fba29096cc39"
     }
    },
    "00451b0b171e4f3898f0a597675bf64e": {
     "model_module": "@jupyter-widgets/controls",
     "model_module_version": "1.5.0",
     "model_name": "FloatProgressModel",
     "state": {
      "_dom_classes": [],
      "_model_module": "@jupyter-widgets/controls",
      "_model_module_version": "1.5.0",
      "_model_name": "FloatProgressModel",
      "_view_count": null,
      "_view_module": "@jupyter-widgets/controls",
      "_view_module_version": "1.5.0",
      "_view_name": "ProgressView",
      "bar_style": "success",
      "description": "",
      "description_tooltip": null,
      "layout": "IPY_MODEL_bfc9625c49244558bdd356619ff1d57d",
      "max": 1,
      "min": 0,
      "orientation": "horizontal",
      "style": "IPY_MODEL_226f6f085fee4563a2da2cf1a9d3fc85",
      "value": 1
     }
    },
    "01f8f4da6ed4429d8ae0ae31aaa31963": {
     "model_module": "@jupyter-widgets/base",
     "model_module_version": "1.2.0",
     "model_name": "LayoutModel",
     "state": {
      "_model_module": "@jupyter-widgets/base",
      "_model_module_version": "1.2.0",
      "_model_name": "LayoutModel",
      "_view_count": null,
      "_view_module": "@jupyter-widgets/base",
      "_view_module_version": "1.2.0",
      "_view_name": "LayoutView",
      "align_content": null,
      "align_items": null,
      "align_self": null,
      "border": null,
      "bottom": null,
      "display": null,
      "flex": null,
      "flex_flow": null,
      "grid_area": null,
      "grid_auto_columns": null,
      "grid_auto_flow": null,
      "grid_auto_rows": null,
      "grid_column": null,
      "grid_gap": null,
      "grid_row": null,
      "grid_template_areas": null,
      "grid_template_columns": null,
      "grid_template_rows": null,
      "height": null,
      "justify_content": null,
      "justify_items": null,
      "left": null,
      "margin": null,
      "max_height": null,
      "max_width": null,
      "min_height": null,
      "min_width": null,
      "object_fit": null,
      "object_position": null,
      "order": null,
      "overflow": null,
      "overflow_x": null,
      "overflow_y": null,
      "padding": null,
      "right": null,
      "top": null,
      "visibility": null,
      "width": null
     }
    },
    "02d8713a5c154e71b2d9e399cb8b50b6": {
     "model_module": "@jupyter-widgets/controls",
     "model_module_version": "1.5.0",
     "model_name": "DescriptionStyleModel",
     "state": {
      "_model_module": "@jupyter-widgets/controls",
      "_model_module_version": "1.5.0",
      "_model_name": "DescriptionStyleModel",
      "_view_count": null,
      "_view_module": "@jupyter-widgets/base",
      "_view_module_version": "1.2.0",
      "_view_name": "StyleView",
      "description_width": ""
     }
    },
    "0afde08bbe714717ba00b9d86b7944a3": {
     "model_module": "@jupyter-widgets/base",
     "model_module_version": "1.2.0",
     "model_name": "LayoutModel",
     "state": {
      "_model_module": "@jupyter-widgets/base",
      "_model_module_version": "1.2.0",
      "_model_name": "LayoutModel",
      "_view_count": null,
      "_view_module": "@jupyter-widgets/base",
      "_view_module_version": "1.2.0",
      "_view_name": "LayoutView",
      "align_content": null,
      "align_items": null,
      "align_self": null,
      "border": null,
      "bottom": null,
      "display": null,
      "flex": null,
      "flex_flow": null,
      "grid_area": null,
      "grid_auto_columns": null,
      "grid_auto_flow": null,
      "grid_auto_rows": null,
      "grid_column": null,
      "grid_gap": null,
      "grid_row": null,
      "grid_template_areas": null,
      "grid_template_columns": null,
      "grid_template_rows": null,
      "height": null,
      "justify_content": null,
      "justify_items": null,
      "left": null,
      "margin": null,
      "max_height": null,
      "max_width": null,
      "min_height": null,
      "min_width": null,
      "object_fit": null,
      "object_position": null,
      "order": null,
      "overflow": null,
      "overflow_x": null,
      "overflow_y": null,
      "padding": null,
      "right": null,
      "top": null,
      "visibility": null,
      "width": null
     }
    },
    "13247b3607ec41ec91d2628d50d45e67": {
     "model_module": "@jupyter-widgets/controls",
     "model_module_version": "1.5.0",
     "model_name": "DescriptionStyleModel",
     "state": {
      "_model_module": "@jupyter-widgets/controls",
      "_model_module_version": "1.5.0",
      "_model_name": "DescriptionStyleModel",
      "_view_count": null,
      "_view_module": "@jupyter-widgets/base",
      "_view_module_version": "1.2.0",
      "_view_name": "StyleView",
      "description_width": ""
     }
    },
    "1fca7832cb5842329afb05143105aa0d": {
     "model_module": "@jupyter-widgets/controls",
     "model_module_version": "1.5.0",
     "model_name": "HTMLModel",
     "state": {
      "_dom_classes": [],
      "_model_module": "@jupyter-widgets/controls",
      "_model_module_version": "1.5.0",
      "_model_name": "HTMLModel",
      "_view_count": null,
      "_view_module": "@jupyter-widgets/controls",
      "_view_module_version": "1.5.0",
      "_view_name": "HTMLView",
      "description": "",
      "description_tooltip": null,
      "layout": "IPY_MODEL_8a26eeeb1554411c8c15b07583595a73",
      "placeholder": "​",
      "style": "IPY_MODEL_13247b3607ec41ec91d2628d50d45e67",
      "value": "de-en/test-00000-of-00001.parquet: 100%"
     }
    },
    "22495783a86b42bb8f6ffe61bfa94d47": {
     "model_module": "@jupyter-widgets/controls",
     "model_module_version": "1.5.0",
     "model_name": "HTMLModel",
     "state": {
      "_dom_classes": [],
      "_model_module": "@jupyter-widgets/controls",
      "_model_module_version": "1.5.0",
      "_model_name": "HTMLModel",
      "_view_count": null,
      "_view_module": "@jupyter-widgets/controls",
      "_view_module_version": "1.5.0",
      "_view_name": "HTMLView",
      "description": "",
      "description_tooltip": null,
      "layout": "IPY_MODEL_2e8c39dec6de40e793f31a48baa07c75",
      "placeholder": "​",
      "style": "IPY_MODEL_694b06b7f9d742f691327d7b570ab7db",
      "value": "de-en/train-00001-of-00003.parquet: 100%"
     }
    },
    "226f6f085fee4563a2da2cf1a9d3fc85": {
     "model_module": "@jupyter-widgets/controls",
     "model_module_version": "1.5.0",
     "model_name": "ProgressStyleModel",
     "state": {
      "_model_module": "@jupyter-widgets/controls",
      "_model_module_version": "1.5.0",
      "_model_name": "ProgressStyleModel",
      "_view_count": null,
      "_view_module": "@jupyter-widgets/base",
      "_view_module_version": "1.2.0",
      "_view_name": "StyleView",
      "bar_color": null,
      "description_width": ""
     }
    },
    "22d74a28bd3347c4b98b60b1acecc33a": {
     "model_module": "@jupyter-widgets/base",
     "model_module_version": "1.2.0",
     "model_name": "LayoutModel",
     "state": {
      "_model_module": "@jupyter-widgets/base",
      "_model_module_version": "1.2.0",
      "_model_name": "LayoutModel",
      "_view_count": null,
      "_view_module": "@jupyter-widgets/base",
      "_view_module_version": "1.2.0",
      "_view_name": "LayoutView",
      "align_content": null,
      "align_items": null,
      "align_self": null,
      "border": null,
      "bottom": null,
      "display": null,
      "flex": null,
      "flex_flow": null,
      "grid_area": null,
      "grid_auto_columns": null,
      "grid_auto_flow": null,
      "grid_auto_rows": null,
      "grid_column": null,
      "grid_gap": null,
      "grid_row": null,
      "grid_template_areas": null,
      "grid_template_columns": null,
      "grid_template_rows": null,
      "height": null,
      "justify_content": null,
      "justify_items": null,
      "left": null,
      "margin": null,
      "max_height": null,
      "max_width": null,
      "min_height": null,
      "min_width": null,
      "object_fit": null,
      "object_position": null,
      "order": null,
      "overflow": null,
      "overflow_x": null,
      "overflow_y": null,
      "padding": null,
      "right": null,
      "top": null,
      "visibility": null,
      "width": null
     }
    },
    "2af7b0cc8ddb48879dc3fac8070cce37": {
     "model_module": "@jupyter-widgets/controls",
     "model_module_version": "1.5.0",
     "model_name": "HBoxModel",
     "state": {
      "_dom_classes": [],
      "_model_module": "@jupyter-widgets/controls",
      "_model_module_version": "1.5.0",
      "_model_name": "HBoxModel",
      "_view_count": null,
      "_view_module": "@jupyter-widgets/controls",
      "_view_module_version": "1.5.0",
      "_view_name": "HBoxView",
      "box_style": "",
      "children": [
       "IPY_MODEL_d5d7f14c86fa4f2490c8c76435de5dcc",
       "IPY_MODEL_a5b9275e145a469cbab84ccd5074e5d2",
       "IPY_MODEL_58fab7a3e64b44df866c539c535c757b"
      ],
      "layout": "IPY_MODEL_bbaa8772b0b945dbab372a078feade27"
     }
    },
    "2e80e432f0e34564bd8c6b61c519fc89": {
     "model_module": "@jupyter-widgets/controls",
     "model_module_version": "1.5.0",
     "model_name": "FloatProgressModel",
     "state": {
      "_dom_classes": [],
      "_model_module": "@jupyter-widgets/controls",
      "_model_module_version": "1.5.0",
      "_model_name": "FloatProgressModel",
      "_view_count": null,
      "_view_module": "@jupyter-widgets/controls",
      "_view_module_version": "1.5.0",
      "_view_name": "ProgressView",
      "bar_style": "success",
      "description": "",
      "description_tooltip": null,
      "layout": "IPY_MODEL_c7c1e9c2bfa2469ba222ee6c9dd26876",
      "max": 264970514,
      "min": 0,
      "orientation": "horizontal",
      "style": "IPY_MODEL_6e8a7d7b34c04b058a5a2f81f8813e25",
      "value": 264970514
     }
    },
    "2e8c39dec6de40e793f31a48baa07c75": {
     "model_module": "@jupyter-widgets/base",
     "model_module_version": "1.2.0",
     "model_name": "LayoutModel",
     "state": {
      "_model_module": "@jupyter-widgets/base",
      "_model_module_version": "1.2.0",
      "_model_name": "LayoutModel",
      "_view_count": null,
      "_view_module": "@jupyter-widgets/base",
      "_view_module_version": "1.2.0",
      "_view_name": "LayoutView",
      "align_content": null,
      "align_items": null,
      "align_self": null,
      "border": null,
      "bottom": null,
      "display": null,
      "flex": null,
      "flex_flow": null,
      "grid_area": null,
      "grid_auto_columns": null,
      "grid_auto_flow": null,
      "grid_auto_rows": null,
      "grid_column": null,
      "grid_gap": null,
      "grid_row": null,
      "grid_template_areas": null,
      "grid_template_columns": null,
      "grid_template_rows": null,
      "height": null,
      "justify_content": null,
      "justify_items": null,
      "left": null,
      "margin": null,
      "max_height": null,
      "max_width": null,
      "min_height": null,
      "min_width": null,
      "object_fit": null,
      "object_position": null,
      "order": null,
      "overflow": null,
      "overflow_x": null,
      "overflow_y": null,
      "padding": null,
      "right": null,
      "top": null,
      "visibility": null,
      "width": null
     }
    },
    "2fda2014ec8340238ea6a059dbf7abea": {
     "model_module": "@jupyter-widgets/controls",
     "model_module_version": "1.5.0",
     "model_name": "DescriptionStyleModel",
     "state": {
      "_model_module": "@jupyter-widgets/controls",
      "_model_module_version": "1.5.0",
      "_model_name": "DescriptionStyleModel",
      "_view_count": null,
      "_view_module": "@jupyter-widgets/base",
      "_view_module_version": "1.2.0",
      "_view_name": "StyleView",
      "description_width": ""
     }
    },
    "2ff031af3267433bbe461dc146c63356": {
     "model_module": "@jupyter-widgets/controls",
     "model_module_version": "1.5.0",
     "model_name": "HTMLModel",
     "state": {
      "_dom_classes": [],
      "_model_module": "@jupyter-widgets/controls",
      "_model_module_version": "1.5.0",
      "_model_name": "HTMLModel",
      "_view_count": null,
      "_view_module": "@jupyter-widgets/controls",
      "_view_module_version": "1.5.0",
      "_view_name": "HTMLView",
      "description": "",
      "description_tooltip": null,
      "layout": "IPY_MODEL_22d74a28bd3347c4b98b60b1acecc33a",
      "placeholder": "​",
      "style": "IPY_MODEL_bdd66cedef7a4b2faf8ed2719eca156d",
      "value": " 4508785/4508785 [00:11&lt;00:00, 442529.68 examples/s]"
     }
    },
    "30a7a01b1f894286a144ca59fcdac293": {
     "model_module": "@jupyter-widgets/controls",
     "model_module_version": "1.5.0",
     "model_name": "DescriptionStyleModel",
     "state": {
      "_model_module": "@jupyter-widgets/controls",
      "_model_module_version": "1.5.0",
      "_model_name": "DescriptionStyleModel",
      "_view_count": null,
      "_view_module": "@jupyter-widgets/base",
      "_view_module_version": "1.2.0",
      "_view_name": "StyleView",
      "description_width": ""
     }
    },
    "32fcf99e73b2454a8f45630561f4d019": {
     "model_module": "@jupyter-widgets/controls",
     "model_module_version": "1.5.0",
     "model_name": "HTMLModel",
     "state": {
      "_dom_classes": [],
      "_model_module": "@jupyter-widgets/controls",
      "_model_module_version": "1.5.0",
      "_model_name": "HTMLModel",
      "_view_count": null,
      "_view_module": "@jupyter-widgets/controls",
      "_view_module_version": "1.5.0",
      "_view_name": "HTMLView",
      "description": "",
      "description_tooltip": null,
      "layout": "IPY_MODEL_e97fc10d74614e3d8640d4feaf0d1d37",
      "placeholder": "​",
      "style": "IPY_MODEL_f67d6d3ff3c64903a08ce3f86a0b6a1b",
      "value": "de-en/train-00002-of-00003.parquet: 100%"
     }
    },
    "3377d3f1b7fe49a78ecb09a61bac3801": {
     "model_module": "@jupyter-widgets/controls",
     "model_module_version": "1.5.0",
     "model_name": "HTMLModel",
     "state": {
      "_dom_classes": [],
      "_model_module": "@jupyter-widgets/controls",
      "_model_module_version": "1.5.0",
      "_model_name": "HTMLModel",
      "_view_count": null,
      "_view_module": "@jupyter-widgets/controls",
      "_view_module_version": "1.5.0",
      "_view_name": "HTMLView",
      "description": "",
      "description_tooltip": null,
      "layout": "IPY_MODEL_d15a95ef80ce4ac8b53757cb7169b8bf",
      "placeholder": "​",
      "style": "IPY_MODEL_2fda2014ec8340238ea6a059dbf7abea",
      "value": "Generating test split: 100%"
     }
    },
    "337e2612bbb94bb6a3f9389f7d0a3349": {
     "model_module": "@jupyter-widgets/controls",
     "model_module_version": "1.5.0",
     "model_name": "FloatProgressModel",
     "state": {
      "_dom_classes": [],
      "_model_module": "@jupyter-widgets/controls",
      "_model_module_version": "1.5.0",
      "_model_name": "FloatProgressModel",
      "_view_count": null,
      "_view_module": "@jupyter-widgets/controls",
      "_view_module_version": "1.5.0",
      "_view_name": "ProgressView",
      "bar_style": "success",
      "description": "",
      "description_tooltip": null,
      "layout": "IPY_MODEL_cc6a10c31a4c4f23a59dbcaefe0a024b",
      "max": 3003,
      "min": 0,
      "orientation": "horizontal",
      "style": "IPY_MODEL_b695e444602e4352b198a19bc57ec564",
      "value": 3003
     }
    },
    "350d02a873ce476b8638eb1c6d2ec488": {
     "model_module": "@jupyter-widgets/base",
     "model_module_version": "1.2.0",
     "model_name": "LayoutModel",
     "state": {
      "_model_module": "@jupyter-widgets/base",
      "_model_module_version": "1.2.0",
      "_model_name": "LayoutModel",
      "_view_count": null,
      "_view_module": "@jupyter-widgets/base",
      "_view_module_version": "1.2.0",
      "_view_name": "LayoutView",
      "align_content": null,
      "align_items": null,
      "align_self": null,
      "border": null,
      "bottom": null,
      "display": null,
      "flex": null,
      "flex_flow": null,
      "grid_area": null,
      "grid_auto_columns": null,
      "grid_auto_flow": null,
      "grid_auto_rows": null,
      "grid_column": null,
      "grid_gap": null,
      "grid_row": null,
      "grid_template_areas": null,
      "grid_template_columns": null,
      "grid_template_rows": null,
      "height": null,
      "justify_content": null,
      "justify_items": null,
      "left": null,
      "margin": null,
      "max_height": null,
      "max_width": null,
      "min_height": null,
      "min_width": null,
      "object_fit": null,
      "object_position": null,
      "order": null,
      "overflow": null,
      "overflow_x": null,
      "overflow_y": null,
      "padding": null,
      "right": null,
      "top": null,
      "visibility": null,
      "width": null
     }
    },
    "384597d4e0fa4a889dd7da4713d75b68": {
     "model_module": "@jupyter-widgets/controls",
     "model_module_version": "1.5.0",
     "model_name": "FloatProgressModel",
     "state": {
      "_dom_classes": [],
      "_model_module": "@jupyter-widgets/controls",
      "_model_module_version": "1.5.0",
      "_model_name": "FloatProgressModel",
      "_view_count": null,
      "_view_module": "@jupyter-widgets/controls",
      "_view_module_version": "1.5.0",
      "_view_name": "ProgressView",
      "bar_style": "success",
      "description": "",
      "description_tooltip": null,
      "layout": "IPY_MODEL_e857328607a14297879a03afdeaf2dbf",
      "max": 272987200,
      "min": 0,
      "orientation": "horizontal",
      "style": "IPY_MODEL_9fdcb3cb39d344ffab65e1957f500844",
      "value": 272987200
     }
    },
    "3c8d176a6c084ce2a8f436dcf60a50f1": {
     "model_module": "@jupyter-widgets/base",
     "model_module_version": "1.2.0",
     "model_name": "LayoutModel",
     "state": {
      "_model_module": "@jupyter-widgets/base",
      "_model_module_version": "1.2.0",
      "_model_name": "LayoutModel",
      "_view_count": null,
      "_view_module": "@jupyter-widgets/base",
      "_view_module_version": "1.2.0",
      "_view_name": "LayoutView",
      "align_content": null,
      "align_items": null,
      "align_self": null,
      "border": null,
      "bottom": null,
      "display": null,
      "flex": null,
      "flex_flow": null,
      "grid_area": null,
      "grid_auto_columns": null,
      "grid_auto_flow": null,
      "grid_auto_rows": null,
      "grid_column": null,
      "grid_gap": null,
      "grid_row": null,
      "grid_template_areas": null,
      "grid_template_columns": null,
      "grid_template_rows": null,
      "height": null,
      "justify_content": null,
      "justify_items": null,
      "left": null,
      "margin": null,
      "max_height": null,
      "max_width": null,
      "min_height": null,
      "min_width": null,
      "object_fit": null,
      "object_position": null,
      "order": null,
      "overflow": null,
      "overflow_x": null,
      "overflow_y": null,
      "padding": null,
      "right": null,
      "top": null,
      "visibility": null,
      "width": null
     }
    },
    "405eba28f9404dffa3d88fe755f6ef73": {
     "model_module": "@jupyter-widgets/controls",
     "model_module_version": "1.5.0",
     "model_name": "HBoxModel",
     "state": {
      "_dom_classes": [],
      "_model_module": "@jupyter-widgets/controls",
      "_model_module_version": "1.5.0",
      "_model_name": "HBoxModel",
      "_view_count": null,
      "_view_module": "@jupyter-widgets/controls",
      "_view_module_version": "1.5.0",
      "_view_name": "HBoxView",
      "box_style": "",
      "children": [
       "IPY_MODEL_1fca7832cb5842329afb05143105aa0d",
       "IPY_MODEL_9954aeea24e64eb89d7c8af6205e738b",
       "IPY_MODEL_c08e6e4ab5eb4fdf831980e7021506a2"
      ],
      "layout": "IPY_MODEL_f2ce8e4d200f4fe98d27ee28b9e1566b"
     }
    },
    "455e4bb4696f467fa4f660b03273d29d": {
     "model_module": "@jupyter-widgets/controls",
     "model_module_version": "1.5.0",
     "model_name": "ProgressStyleModel",
     "state": {
      "_model_module": "@jupyter-widgets/controls",
      "_model_module_version": "1.5.0",
      "_model_name": "ProgressStyleModel",
      "_view_count": null,
      "_view_module": "@jupyter-widgets/base",
      "_view_module_version": "1.2.0",
      "_view_name": "StyleView",
      "bar_color": null,
      "description_width": ""
     }
    },
    "45cabeac7eac4c6d9eaf2bb51b0aa107": {
     "model_module": "@jupyter-widgets/controls",
     "model_module_version": "1.5.0",
     "model_name": "DescriptionStyleModel",
     "state": {
      "_model_module": "@jupyter-widgets/controls",
      "_model_module_version": "1.5.0",
      "_model_name": "DescriptionStyleModel",
      "_view_count": null,
      "_view_module": "@jupyter-widgets/base",
      "_view_module_version": "1.2.0",
      "_view_name": "StyleView",
      "description_width": ""
     }
    },
    "4deb821c9fe94cba840e55e5f4e25749": {
     "model_module": "@jupyter-widgets/controls",
     "model_module_version": "1.5.0",
     "model_name": "HTMLModel",
     "state": {
      "_dom_classes": [],
      "_model_module": "@jupyter-widgets/controls",
      "_model_module_version": "1.5.0",
      "_model_name": "HTMLModel",
      "_view_count": null,
      "_view_module": "@jupyter-widgets/controls",
      "_view_module_version": "1.5.0",
      "_view_name": "HTMLView",
      "description": "",
      "description_tooltip": null,
      "layout": "IPY_MODEL_3c8d176a6c084ce2a8f436dcf60a50f1",
      "placeholder": "​",
      "style": "IPY_MODEL_7296107aabd542a7bcd0b300ae28de64",
      "value": " 280M/280M [00:08&lt;00:00, 40.9MB/s]"
     }
    },
    "4f09f805f9f343b290009ffb57104bec": {
     "model_module": "@jupyter-widgets/controls",
     "model_module_version": "1.5.0",
     "model_name": "HBoxModel",
     "state": {
      "_dom_classes": [],
      "_model_module": "@jupyter-widgets/controls",
      "_model_module_version": "1.5.0",
      "_model_name": "HBoxModel",
      "_view_count": null,
      "_view_module": "@jupyter-widgets/controls",
      "_view_module_version": "1.5.0",
      "_view_name": "HBoxView",
      "box_style": "",
      "children": [
       "IPY_MODEL_32fcf99e73b2454a8f45630561f4d019",
       "IPY_MODEL_384597d4e0fa4a889dd7da4713d75b68",
       "IPY_MODEL_cb7db672b02a4c788ad548d35d3cd01b"
      ],
      "layout": "IPY_MODEL_5ee8b1dace564fb38e65fda5aab78346"
     }
    },
    "4f3c61ac5c3d42b5a1af69fc8680c41f": {
     "model_module": "@jupyter-widgets/base",
     "model_module_version": "1.2.0",
     "model_name": "LayoutModel",
     "state": {
      "_model_module": "@jupyter-widgets/base",
      "_model_module_version": "1.2.0",
      "_model_name": "LayoutModel",
      "_view_count": null,
      "_view_module": "@jupyter-widgets/base",
      "_view_module_version": "1.2.0",
      "_view_name": "LayoutView",
      "align_content": null,
      "align_items": null,
      "align_self": null,
      "border": null,
      "bottom": null,
      "display": null,
      "flex": null,
      "flex_flow": null,
      "grid_area": null,
      "grid_auto_columns": null,
      "grid_auto_flow": null,
      "grid_auto_rows": null,
      "grid_column": null,
      "grid_gap": null,
      "grid_row": null,
      "grid_template_areas": null,
      "grid_template_columns": null,
      "grid_template_rows": null,
      "height": null,
      "justify_content": null,
      "justify_items": null,
      "left": null,
      "margin": null,
      "max_height": null,
      "max_width": null,
      "min_height": null,
      "min_width": null,
      "object_fit": null,
      "object_position": null,
      "order": null,
      "overflow": null,
      "overflow_x": null,
      "overflow_y": null,
      "padding": null,
      "right": null,
      "top": null,
      "visibility": null,
      "width": null
     }
    },
    "4f7fcc8b6c694d24ae9680af52053015": {
     "model_module": "@jupyter-widgets/controls",
     "model_module_version": "1.5.0",
     "model_name": "HTMLModel",
     "state": {
      "_dom_classes": [],
      "_model_module": "@jupyter-widgets/controls",
      "_model_module_version": "1.5.0",
      "_model_name": "HTMLModel",
      "_view_count": null,
      "_view_module": "@jupyter-widgets/controls",
      "_view_module_version": "1.5.0",
      "_view_name": "HTMLView",
      "description": "",
      "description_tooltip": null,
      "layout": "IPY_MODEL_4f3c61ac5c3d42b5a1af69fc8680c41f",
      "placeholder": "​",
      "style": "IPY_MODEL_6515e36ebab54a9aaa5b46a83a78a0d0",
      "value": " 265M/265M [00:03&lt;00:00, 97.2MB/s]"
     }
    },
    "56dea96dee4b4f8896ddb2b1aa750274": {
     "model_module": "@jupyter-widgets/controls",
     "model_module_version": "1.5.0",
     "model_name": "HBoxModel",
     "state": {
      "_dom_classes": [],
      "_model_module": "@jupyter-widgets/controls",
      "_model_module_version": "1.5.0",
      "_model_name": "HBoxModel",
      "_view_count": null,
      "_view_module": "@jupyter-widgets/controls",
      "_view_module_version": "1.5.0",
      "_view_name": "HBoxView",
      "box_style": "",
      "children": [
       "IPY_MODEL_b829ad80b6b345fa84a3a14c8a9d6323",
       "IPY_MODEL_58e76ddf756e4acda1eb27a844adc27b",
       "IPY_MODEL_931ea6408d8740b48dbc52b60d133352"
      ],
      "layout": "IPY_MODEL_91a30f88c778461fb61de018fc4c6bba"
     }
    },
    "58e76ddf756e4acda1eb27a844adc27b": {
     "model_module": "@jupyter-widgets/controls",
     "model_module_version": "1.5.0",
     "model_name": "FloatProgressModel",
     "state": {
      "_dom_classes": [],
      "_model_module": "@jupyter-widgets/controls",
      "_model_module_version": "1.5.0",
      "_model_name": "FloatProgressModel",
      "_view_count": null,
      "_view_module": "@jupyter-widgets/controls",
      "_view_module_version": "1.5.0",
      "_view_name": "ProgressView",
      "bar_style": "success",
      "description": "",
      "description_tooltip": null,
      "layout": "IPY_MODEL_aff93250e5f848e38234fa82a8144676",
      "max": 473798,
      "min": 0,
      "orientation": "horizontal",
      "style": "IPY_MODEL_6d8b920e75634eb493d6c7ac0b5f9a20",
      "value": 473798
     }
    },
    "58fab7a3e64b44df866c539c535c757b": {
     "model_module": "@jupyter-widgets/controls",
     "model_module_version": "1.5.0",
     "model_name": "HTMLModel",
     "state": {
      "_dom_classes": [],
      "_model_module": "@jupyter-widgets/controls",
      "_model_module_version": "1.5.0",
      "_model_name": "HTMLModel",
      "_view_count": null,
      "_view_module": "@jupyter-widgets/controls",
      "_view_module_version": "1.5.0",
      "_view_name": "HTMLView",
      "description": "",
      "description_tooltip": null,
      "layout": "IPY_MODEL_9664502f7ae2422599380f80a5f6ff1f",
      "placeholder": "​",
      "style": "IPY_MODEL_8c21df0c52cc4fb29e609c841c56d863",
      "value": " 3000/3000 [00:00&lt;00:00, 113734.58 examples/s]"
     }
    },
    "591a256d29a144e4b4160ac85322ce57": {
     "model_module": "@jupyter-widgets/controls",
     "model_module_version": "1.5.0",
     "model_name": "ProgressStyleModel",
     "state": {
      "_model_module": "@jupyter-widgets/controls",
      "_model_module_version": "1.5.0",
      "_model_name": "ProgressStyleModel",
      "_view_count": null,
      "_view_module": "@jupyter-widgets/base",
      "_view_module_version": "1.2.0",
      "_view_name": "StyleView",
      "bar_color": null,
      "description_width": ""
     }
    },
    "5c607ea021004a68acffc9441835528f": {
     "model_module": "@jupyter-widgets/controls",
     "model_module_version": "1.5.0",
     "model_name": "HTMLModel",
     "state": {
      "_dom_classes": [],
      "_model_module": "@jupyter-widgets/controls",
      "_model_module_version": "1.5.0",
      "_model_name": "HTMLModel",
      "_view_count": null,
      "_view_module": "@jupyter-widgets/controls",
      "_view_module_version": "1.5.0",
      "_view_name": "HTMLView",
      "description": "",
      "description_tooltip": null,
      "layout": "IPY_MODEL_7039e0a846c643e08f323eb5a750639a",
      "placeholder": "​",
      "style": "IPY_MODEL_30a7a01b1f894286a144ca59fcdac293",
      "value": "de-en/train-00000-of-00003.parquet: 100%"
     }
    },
    "5ee8b1dace564fb38e65fda5aab78346": {
     "model_module": "@jupyter-widgets/base",
     "model_module_version": "1.2.0",
     "model_name": "LayoutModel",
     "state": {
      "_model_module": "@jupyter-widgets/base",
      "_model_module_version": "1.2.0",
      "_model_name": "LayoutModel",
      "_view_count": null,
      "_view_module": "@jupyter-widgets/base",
      "_view_module_version": "1.2.0",
      "_view_name": "LayoutView",
      "align_content": null,
      "align_items": null,
      "align_self": null,
      "border": null,
      "bottom": null,
      "display": null,
      "flex": null,
      "flex_flow": null,
      "grid_area": null,
      "grid_auto_columns": null,
      "grid_auto_flow": null,
      "grid_auto_rows": null,
      "grid_column": null,
      "grid_gap": null,
      "grid_row": null,
      "grid_template_areas": null,
      "grid_template_columns": null,
      "grid_template_rows": null,
      "height": null,
      "justify_content": null,
      "justify_items": null,
      "left": null,
      "margin": null,
      "max_height": null,
      "max_width": null,
      "min_height": null,
      "min_width": null,
      "object_fit": null,
      "object_position": null,
      "order": null,
      "overflow": null,
      "overflow_x": null,
      "overflow_y": null,
      "padding": null,
      "right": null,
      "top": null,
      "visibility": null,
      "width": null
     }
    },
    "6515e36ebab54a9aaa5b46a83a78a0d0": {
     "model_module": "@jupyter-widgets/controls",
     "model_module_version": "1.5.0",
     "model_name": "DescriptionStyleModel",
     "state": {
      "_model_module": "@jupyter-widgets/controls",
      "_model_module_version": "1.5.0",
      "_model_name": "DescriptionStyleModel",
      "_view_count": null,
      "_view_module": "@jupyter-widgets/base",
      "_view_module_version": "1.2.0",
      "_view_name": "StyleView",
      "description_width": ""
     }
    },
    "694b06b7f9d742f691327d7b570ab7db": {
     "model_module": "@jupyter-widgets/controls",
     "model_module_version": "1.5.0",
     "model_name": "DescriptionStyleModel",
     "state": {
      "_model_module": "@jupyter-widgets/controls",
      "_model_module_version": "1.5.0",
      "_model_name": "DescriptionStyleModel",
      "_view_count": null,
      "_view_module": "@jupyter-widgets/base",
      "_view_module_version": "1.2.0",
      "_view_name": "StyleView",
      "description_width": ""
     }
    },
    "6b99899d088d4113ba1a9f295ca179ae": {
     "model_module": "@jupyter-widgets/controls",
     "model_module_version": "1.5.0",
     "model_name": "DescriptionStyleModel",
     "state": {
      "_model_module": "@jupyter-widgets/controls",
      "_model_module_version": "1.5.0",
      "_model_name": "DescriptionStyleModel",
      "_view_count": null,
      "_view_module": "@jupyter-widgets/base",
      "_view_module_version": "1.2.0",
      "_view_name": "StyleView",
      "description_width": ""
     }
    },
    "6d8b920e75634eb493d6c7ac0b5f9a20": {
     "model_module": "@jupyter-widgets/controls",
     "model_module_version": "1.5.0",
     "model_name": "ProgressStyleModel",
     "state": {
      "_model_module": "@jupyter-widgets/controls",
      "_model_module_version": "1.5.0",
      "_model_name": "ProgressStyleModel",
      "_view_count": null,
      "_view_module": "@jupyter-widgets/base",
      "_view_module_version": "1.2.0",
      "_view_name": "StyleView",
      "bar_color": null,
      "description_width": ""
     }
    },
    "6db52051ec194fd08162f1a2d1faa282": {
     "model_module": "@jupyter-widgets/controls",
     "model_module_version": "1.5.0",
     "model_name": "HBoxModel",
     "state": {
      "_dom_classes": [],
      "_model_module": "@jupyter-widgets/controls",
      "_model_module_version": "1.5.0",
      "_model_name": "HBoxModel",
      "_view_count": null,
      "_view_module": "@jupyter-widgets/controls",
      "_view_module_version": "1.5.0",
      "_view_name": "HBoxView",
      "box_style": "",
      "children": [
       "IPY_MODEL_5c607ea021004a68acffc9441835528f",
       "IPY_MODEL_e21999f3347044b2a4defa8da259875d",
       "IPY_MODEL_4deb821c9fe94cba840e55e5f4e25749"
      ],
      "layout": "IPY_MODEL_71d4e00147214b55b474404525350df6"
     }
    },
    "6e8a7d7b34c04b058a5a2f81f8813e25": {
     "model_module": "@jupyter-widgets/controls",
     "model_module_version": "1.5.0",
     "model_name": "ProgressStyleModel",
     "state": {
      "_model_module": "@jupyter-widgets/controls",
      "_model_module_version": "1.5.0",
      "_model_name": "ProgressStyleModel",
      "_view_count": null,
      "_view_module": "@jupyter-widgets/base",
      "_view_module_version": "1.2.0",
      "_view_name": "StyleView",
      "bar_color": null,
      "description_width": ""
     }
    },
    "6e964c5a27d34be0ae3516311a155a2d": {
     "model_module": "@jupyter-widgets/base",
     "model_module_version": "1.2.0",
     "model_name": "LayoutModel",
     "state": {
      "_model_module": "@jupyter-widgets/base",
      "_model_module_version": "1.2.0",
      "_model_name": "LayoutModel",
      "_view_count": null,
      "_view_module": "@jupyter-widgets/base",
      "_view_module_version": "1.2.0",
      "_view_name": "LayoutView",
      "align_content": null,
      "align_items": null,
      "align_self": null,
      "border": null,
      "bottom": null,
      "display": null,
      "flex": null,
      "flex_flow": null,
      "grid_area": null,
      "grid_auto_columns": null,
      "grid_auto_flow": null,
      "grid_auto_rows": null,
      "grid_column": null,
      "grid_gap": null,
      "grid_row": null,
      "grid_template_areas": null,
      "grid_template_columns": null,
      "grid_template_rows": null,
      "height": null,
      "justify_content": null,
      "justify_items": null,
      "left": null,
      "margin": null,
      "max_height": null,
      "max_width": null,
      "min_height": null,
      "min_width": null,
      "object_fit": null,
      "object_position": null,
      "order": null,
      "overflow": null,
      "overflow_x": null,
      "overflow_y": null,
      "padding": null,
      "right": null,
      "top": null,
      "visibility": null,
      "width": null
     }
    },
    "7039e0a846c643e08f323eb5a750639a": {
     "model_module": "@jupyter-widgets/base",
     "model_module_version": "1.2.0",
     "model_name": "LayoutModel",
     "state": {
      "_model_module": "@jupyter-widgets/base",
      "_model_module_version": "1.2.0",
      "_model_name": "LayoutModel",
      "_view_count": null,
      "_view_module": "@jupyter-widgets/base",
      "_view_module_version": "1.2.0",
      "_view_name": "LayoutView",
      "align_content": null,
      "align_items": null,
      "align_self": null,
      "border": null,
      "bottom": null,
      "display": null,
      "flex": null,
      "flex_flow": null,
      "grid_area": null,
      "grid_auto_columns": null,
      "grid_auto_flow": null,
      "grid_auto_rows": null,
      "grid_column": null,
      "grid_gap": null,
      "grid_row": null,
      "grid_template_areas": null,
      "grid_template_columns": null,
      "grid_template_rows": null,
      "height": null,
      "justify_content": null,
      "justify_items": null,
      "left": null,
      "margin": null,
      "max_height": null,
      "max_width": null,
      "min_height": null,
      "min_width": null,
      "object_fit": null,
      "object_position": null,
      "order": null,
      "overflow": null,
      "overflow_x": null,
      "overflow_y": null,
      "padding": null,
      "right": null,
      "top": null,
      "visibility": null,
      "width": null
     }
    },
    "71d4e00147214b55b474404525350df6": {
     "model_module": "@jupyter-widgets/base",
     "model_module_version": "1.2.0",
     "model_name": "LayoutModel",
     "state": {
      "_model_module": "@jupyter-widgets/base",
      "_model_module_version": "1.2.0",
      "_model_name": "LayoutModel",
      "_view_count": null,
      "_view_module": "@jupyter-widgets/base",
      "_view_module_version": "1.2.0",
      "_view_name": "LayoutView",
      "align_content": null,
      "align_items": null,
      "align_self": null,
      "border": null,
      "bottom": null,
      "display": null,
      "flex": null,
      "flex_flow": null,
      "grid_area": null,
      "grid_auto_columns": null,
      "grid_auto_flow": null,
      "grid_auto_rows": null,
      "grid_column": null,
      "grid_gap": null,
      "grid_row": null,
      "grid_template_areas": null,
      "grid_template_columns": null,
      "grid_template_rows": null,
      "height": null,
      "justify_content": null,
      "justify_items": null,
      "left": null,
      "margin": null,
      "max_height": null,
      "max_width": null,
      "min_height": null,
      "min_width": null,
      "object_fit": null,
      "object_position": null,
      "order": null,
      "overflow": null,
      "overflow_x": null,
      "overflow_y": null,
      "padding": null,
      "right": null,
      "top": null,
      "visibility": null,
      "width": null
     }
    },
    "7296107aabd542a7bcd0b300ae28de64": {
     "model_module": "@jupyter-widgets/controls",
     "model_module_version": "1.5.0",
     "model_name": "DescriptionStyleModel",
     "state": {
      "_model_module": "@jupyter-widgets/controls",
      "_model_module_version": "1.5.0",
      "_model_name": "DescriptionStyleModel",
      "_view_count": null,
      "_view_module": "@jupyter-widgets/base",
      "_view_module_version": "1.2.0",
      "_view_name": "StyleView",
      "description_width": ""
     }
    },
    "751b44ccb4224ff2b810fba29096cc39": {
     "model_module": "@jupyter-widgets/base",
     "model_module_version": "1.2.0",
     "model_name": "LayoutModel",
     "state": {
      "_model_module": "@jupyter-widgets/base",
      "_model_module_version": "1.2.0",
      "_model_name": "LayoutModel",
      "_view_count": null,
      "_view_module": "@jupyter-widgets/base",
      "_view_module_version": "1.2.0",
      "_view_name": "LayoutView",
      "align_content": null,
      "align_items": null,
      "align_self": null,
      "border": null,
      "bottom": null,
      "display": null,
      "flex": null,
      "flex_flow": null,
      "grid_area": null,
      "grid_auto_columns": null,
      "grid_auto_flow": null,
      "grid_auto_rows": null,
      "grid_column": null,
      "grid_gap": null,
      "grid_row": null,
      "grid_template_areas": null,
      "grid_template_columns": null,
      "grid_template_rows": null,
      "height": null,
      "justify_content": null,
      "justify_items": null,
      "left": null,
      "margin": null,
      "max_height": null,
      "max_width": null,
      "min_height": null,
      "min_width": null,
      "object_fit": null,
      "object_position": null,
      "order": null,
      "overflow": null,
      "overflow_x": null,
      "overflow_y": null,
      "padding": null,
      "right": null,
      "top": null,
      "visibility": null,
      "width": null
     }
    },
    "77c19d4bf65742389ade7ff0bd17869d": {
     "model_module": "@jupyter-widgets/controls",
     "model_module_version": "1.5.0",
     "model_name": "FloatProgressModel",
     "state": {
      "_dom_classes": [],
      "_model_module": "@jupyter-widgets/controls",
      "_model_module_version": "1.5.0",
      "_model_name": "FloatProgressModel",
      "_view_count": null,
      "_view_module": "@jupyter-widgets/controls",
      "_view_module_version": "1.5.0",
      "_view_name": "ProgressView",
      "bar_style": "success",
      "description": "",
      "description_tooltip": null,
      "layout": "IPY_MODEL_e0c3f48502c24a2689b065c767fe4320",
      "max": 4508785,
      "min": 0,
      "orientation": "horizontal",
      "style": "IPY_MODEL_591a256d29a144e4b4160ac85322ce57",
      "value": 4508785
     }
    },
    "78ce458e4faa43ab9d8f27d6f323d452": {
     "model_module": "@jupyter-widgets/controls",
     "model_module_version": "1.5.0",
     "model_name": "ProgressStyleModel",
     "state": {
      "_model_module": "@jupyter-widgets/controls",
      "_model_module_version": "1.5.0",
      "_model_name": "ProgressStyleModel",
      "_view_count": null,
      "_view_module": "@jupyter-widgets/base",
      "_view_module_version": "1.2.0",
      "_view_name": "StyleView",
      "bar_color": null,
      "description_width": ""
     }
    },
    "795e58d912ee4fe1b9c27b561671c5b9": {
     "model_module": "@jupyter-widgets/controls",
     "model_module_version": "1.5.0",
     "model_name": "HTMLModel",
     "state": {
      "_dom_classes": [],
      "_model_module": "@jupyter-widgets/controls",
      "_model_module_version": "1.5.0",
      "_model_name": "HTMLModel",
      "_view_count": null,
      "_view_module": "@jupyter-widgets/controls",
      "_view_module_version": "1.5.0",
      "_view_name": "HTMLView",
      "description": "",
      "description_tooltip": null,
      "layout": "IPY_MODEL_350d02a873ce476b8638eb1c6d2ec488",
      "placeholder": "​",
      "style": "IPY_MODEL_c93c8d53b3554afd86807af997f72301",
      "value": " 3003/3003 [00:00&lt;00:00, 100876.94 examples/s]"
     }
    },
    "8912e6028bb44d4dbbe97935dd26bac1": {
     "model_module": "@jupyter-widgets/base",
     "model_module_version": "1.2.0",
     "model_name": "LayoutModel",
     "state": {
      "_model_module": "@jupyter-widgets/base",
      "_model_module_version": "1.2.0",
      "_model_name": "LayoutModel",
      "_view_count": null,
      "_view_module": "@jupyter-widgets/base",
      "_view_module_version": "1.2.0",
      "_view_name": "LayoutView",
      "align_content": null,
      "align_items": null,
      "align_self": null,
      "border": null,
      "bottom": null,
      "display": null,
      "flex": null,
      "flex_flow": null,
      "grid_area": null,
      "grid_auto_columns": null,
      "grid_auto_flow": null,
      "grid_auto_rows": null,
      "grid_column": null,
      "grid_gap": null,
      "grid_row": null,
      "grid_template_areas": null,
      "grid_template_columns": null,
      "grid_template_rows": null,
      "height": null,
      "justify_content": null,
      "justify_items": null,
      "left": null,
      "margin": null,
      "max_height": null,
      "max_width": null,
      "min_height": null,
      "min_width": null,
      "object_fit": null,
      "object_position": null,
      "order": null,
      "overflow": null,
      "overflow_x": null,
      "overflow_y": null,
      "padding": null,
      "right": null,
      "top": null,
      "visibility": null,
      "width": null
     }
    },
    "8a26eeeb1554411c8c15b07583595a73": {
     "model_module": "@jupyter-widgets/base",
     "model_module_version": "1.2.0",
     "model_name": "LayoutModel",
     "state": {
      "_model_module": "@jupyter-widgets/base",
      "_model_module_version": "1.2.0",
      "_model_name": "LayoutModel",
      "_view_count": null,
      "_view_module": "@jupyter-widgets/base",
      "_view_module_version": "1.2.0",
      "_view_name": "LayoutView",
      "align_content": null,
      "align_items": null,
      "align_self": null,
      "border": null,
      "bottom": null,
      "display": null,
      "flex": null,
      "flex_flow": null,
      "grid_area": null,
      "grid_auto_columns": null,
      "grid_auto_flow": null,
      "grid_auto_rows": null,
      "grid_column": null,
      "grid_gap": null,
      "grid_row": null,
      "grid_template_areas": null,
      "grid_template_columns": null,
      "grid_template_rows": null,
      "height": null,
      "justify_content": null,
      "justify_items": null,
      "left": null,
      "margin": null,
      "max_height": null,
      "max_width": null,
      "min_height": null,
      "min_width": null,
      "object_fit": null,
      "object_position": null,
      "order": null,
      "overflow": null,
      "overflow_x": null,
      "overflow_y": null,
      "padding": null,
      "right": null,
      "top": null,
      "visibility": null,
      "width": null
     }
    },
    "8c21df0c52cc4fb29e609c841c56d863": {
     "model_module": "@jupyter-widgets/controls",
     "model_module_version": "1.5.0",
     "model_name": "DescriptionStyleModel",
     "state": {
      "_model_module": "@jupyter-widgets/controls",
      "_model_module_version": "1.5.0",
      "_model_name": "DescriptionStyleModel",
      "_view_count": null,
      "_view_module": "@jupyter-widgets/base",
      "_view_module_version": "1.2.0",
      "_view_name": "StyleView",
      "description_width": ""
     }
    },
    "8f5d42e3a01a472fa9dfd9d051cc818b": {
     "model_module": "@jupyter-widgets/controls",
     "model_module_version": "1.5.0",
     "model_name": "HBoxModel",
     "state": {
      "_dom_classes": [],
      "_model_module": "@jupyter-widgets/controls",
      "_model_module_version": "1.5.0",
      "_model_name": "HBoxModel",
      "_view_count": null,
      "_view_module": "@jupyter-widgets/controls",
      "_view_module_version": "1.5.0",
      "_view_name": "HBoxView",
      "box_style": "",
      "children": [
       "IPY_MODEL_22495783a86b42bb8f6ffe61bfa94d47",
       "IPY_MODEL_2e80e432f0e34564bd8c6b61c519fc89",
       "IPY_MODEL_4f7fcc8b6c694d24ae9680af52053015"
      ],
      "layout": "IPY_MODEL_d1e5669d5e534cd3b7aeedf31c2d3e39"
     }
    },
    "91a30f88c778461fb61de018fc4c6bba": {
     "model_module": "@jupyter-widgets/base",
     "model_module_version": "1.2.0",
     "model_name": "LayoutModel",
     "state": {
      "_model_module": "@jupyter-widgets/base",
      "_model_module_version": "1.2.0",
      "_model_name": "LayoutModel",
      "_view_count": null,
      "_view_module": "@jupyter-widgets/base",
      "_view_module_version": "1.2.0",
      "_view_name": "LayoutView",
      "align_content": null,
      "align_items": null,
      "align_self": null,
      "border": null,
      "bottom": null,
      "display": null,
      "flex": null,
      "flex_flow": null,
      "grid_area": null,
      "grid_auto_columns": null,
      "grid_auto_flow": null,
      "grid_auto_rows": null,
      "grid_column": null,
      "grid_gap": null,
      "grid_row": null,
      "grid_template_areas": null,
      "grid_template_columns": null,
      "grid_template_rows": null,
      "height": null,
      "justify_content": null,
      "justify_items": null,
      "left": null,
      "margin": null,
      "max_height": null,
      "max_width": null,
      "min_height": null,
      "min_width": null,
      "object_fit": null,
      "object_position": null,
      "order": null,
      "overflow": null,
      "overflow_x": null,
      "overflow_y": null,
      "padding": null,
      "right": null,
      "top": null,
      "visibility": null,
      "width": null
     }
    },
    "931ea6408d8740b48dbc52b60d133352": {
     "model_module": "@jupyter-widgets/controls",
     "model_module_version": "1.5.0",
     "model_name": "HTMLModel",
     "state": {
      "_dom_classes": [],
      "_model_module": "@jupyter-widgets/controls",
      "_model_module_version": "1.5.0",
      "_model_name": "HTMLModel",
      "_view_count": null,
      "_view_module": "@jupyter-widgets/controls",
      "_view_module_version": "1.5.0",
      "_view_name": "HTMLView",
      "description": "",
      "description_tooltip": null,
      "layout": "IPY_MODEL_a35f9b4094234120b0f01dedbe169fc7",
      "placeholder": "​",
      "style": "IPY_MODEL_6b99899d088d4113ba1a9f295ca179ae",
      "value": " 474k/474k [00:00&lt;00:00, 720kB/s]"
     }
    },
    "9664502f7ae2422599380f80a5f6ff1f": {
     "model_module": "@jupyter-widgets/base",
     "model_module_version": "1.2.0",
     "model_name": "LayoutModel",
     "state": {
      "_model_module": "@jupyter-widgets/base",
      "_model_module_version": "1.2.0",
      "_model_name": "LayoutModel",
      "_view_count": null,
      "_view_module": "@jupyter-widgets/base",
      "_view_module_version": "1.2.0",
      "_view_name": "LayoutView",
      "align_content": null,
      "align_items": null,
      "align_self": null,
      "border": null,
      "bottom": null,
      "display": null,
      "flex": null,
      "flex_flow": null,
      "grid_area": null,
      "grid_auto_columns": null,
      "grid_auto_flow": null,
      "grid_auto_rows": null,
      "grid_column": null,
      "grid_gap": null,
      "grid_row": null,
      "grid_template_areas": null,
      "grid_template_columns": null,
      "grid_template_rows": null,
      "height": null,
      "justify_content": null,
      "justify_items": null,
      "left": null,
      "margin": null,
      "max_height": null,
      "max_width": null,
      "min_height": null,
      "min_width": null,
      "object_fit": null,
      "object_position": null,
      "order": null,
      "overflow": null,
      "overflow_x": null,
      "overflow_y": null,
      "padding": null,
      "right": null,
      "top": null,
      "visibility": null,
      "width": null
     }
    },
    "9954aeea24e64eb89d7c8af6205e738b": {
     "model_module": "@jupyter-widgets/controls",
     "model_module_version": "1.5.0",
     "model_name": "FloatProgressModel",
     "state": {
      "_dom_classes": [],
      "_model_module": "@jupyter-widgets/controls",
      "_model_module_version": "1.5.0",
      "_model_name": "FloatProgressModel",
      "_view_count": null,
      "_view_module": "@jupyter-widgets/controls",
      "_view_module_version": "1.5.0",
      "_view_name": "ProgressView",
      "bar_style": "success",
      "description": "",
      "description_tooltip": null,
      "layout": "IPY_MODEL_fcf7631f123946b1bed2b6dda3334e63",
      "max": 508753,
      "min": 0,
      "orientation": "horizontal",
      "style": "IPY_MODEL_78ce458e4faa43ab9d8f27d6f323d452",
      "value": 508753
     }
    },
    "9f83d3dcb4254603a931ab32612d6b8e": {
     "model_module": "@jupyter-widgets/controls",
     "model_module_version": "1.5.0",
     "model_name": "HBoxModel",
     "state": {
      "_dom_classes": [],
      "_model_module": "@jupyter-widgets/controls",
      "_model_module_version": "1.5.0",
      "_model_name": "HBoxModel",
      "_view_count": null,
      "_view_module": "@jupyter-widgets/controls",
      "_view_module_version": "1.5.0",
      "_view_name": "HBoxView",
      "box_style": "",
      "children": [
       "IPY_MODEL_3377d3f1b7fe49a78ecb09a61bac3801",
       "IPY_MODEL_337e2612bbb94bb6a3f9389f7d0a3349",
       "IPY_MODEL_795e58d912ee4fe1b9c27b561671c5b9"
      ],
      "layout": "IPY_MODEL_de249e8a3e8d472d9702cdbc1d48c131"
     }
    },
    "9fdcb3cb39d344ffab65e1957f500844": {
     "model_module": "@jupyter-widgets/controls",
     "model_module_version": "1.5.0",
     "model_name": "ProgressStyleModel",
     "state": {
      "_model_module": "@jupyter-widgets/controls",
      "_model_module_version": "1.5.0",
      "_model_name": "ProgressStyleModel",
      "_view_count": null,
      "_view_module": "@jupyter-widgets/base",
      "_view_module_version": "1.2.0",
      "_view_name": "StyleView",
      "bar_color": null,
      "description_width": ""
     }
    },
    "a2b4c15c1d634c158ec3bd5aa25fd927": {
     "model_module": "@jupyter-widgets/controls",
     "model_module_version": "1.5.0",
     "model_name": "DescriptionStyleModel",
     "state": {
      "_model_module": "@jupyter-widgets/controls",
      "_model_module_version": "1.5.0",
      "_model_name": "DescriptionStyleModel",
      "_view_count": null,
      "_view_module": "@jupyter-widgets/base",
      "_view_module_version": "1.2.0",
      "_view_name": "StyleView",
      "description_width": ""
     }
    },
    "a35f9b4094234120b0f01dedbe169fc7": {
     "model_module": "@jupyter-widgets/base",
     "model_module_version": "1.2.0",
     "model_name": "LayoutModel",
     "state": {
      "_model_module": "@jupyter-widgets/base",
      "_model_module_version": "1.2.0",
      "_model_name": "LayoutModel",
      "_view_count": null,
      "_view_module": "@jupyter-widgets/base",
      "_view_module_version": "1.2.0",
      "_view_name": "LayoutView",
      "align_content": null,
      "align_items": null,
      "align_self": null,
      "border": null,
      "bottom": null,
      "display": null,
      "flex": null,
      "flex_flow": null,
      "grid_area": null,
      "grid_auto_columns": null,
      "grid_auto_flow": null,
      "grid_auto_rows": null,
      "grid_column": null,
      "grid_gap": null,
      "grid_row": null,
      "grid_template_areas": null,
      "grid_template_columns": null,
      "grid_template_rows": null,
      "height": null,
      "justify_content": null,
      "justify_items": null,
      "left": null,
      "margin": null,
      "max_height": null,
      "max_width": null,
      "min_height": null,
      "min_width": null,
      "object_fit": null,
      "object_position": null,
      "order": null,
      "overflow": null,
      "overflow_x": null,
      "overflow_y": null,
      "padding": null,
      "right": null,
      "top": null,
      "visibility": null,
      "width": null
     }
    },
    "a5b9275e145a469cbab84ccd5074e5d2": {
     "model_module": "@jupyter-widgets/controls",
     "model_module_version": "1.5.0",
     "model_name": "FloatProgressModel",
     "state": {
      "_dom_classes": [],
      "_model_module": "@jupyter-widgets/controls",
      "_model_module_version": "1.5.0",
      "_model_name": "FloatProgressModel",
      "_view_count": null,
      "_view_module": "@jupyter-widgets/controls",
      "_view_module_version": "1.5.0",
      "_view_name": "ProgressView",
      "bar_style": "success",
      "description": "",
      "description_tooltip": null,
      "layout": "IPY_MODEL_01f8f4da6ed4429d8ae0ae31aaa31963",
      "max": 3000,
      "min": 0,
      "orientation": "horizontal",
      "style": "IPY_MODEL_455e4bb4696f467fa4f660b03273d29d",
      "value": 3000
     }
    },
    "a648c1ebb8c44aecb7ab339ffdc49231": {
     "model_module": "@jupyter-widgets/controls",
     "model_module_version": "1.5.0",
     "model_name": "DescriptionStyleModel",
     "state": {
      "_model_module": "@jupyter-widgets/controls",
      "_model_module_version": "1.5.0",
      "_model_name": "DescriptionStyleModel",
      "_view_count": null,
      "_view_module": "@jupyter-widgets/base",
      "_view_module_version": "1.2.0",
      "_view_name": "StyleView",
      "description_width": ""
     }
    },
    "a6b42e44dd0946a18ca0fbc8d0eccd3b": {
     "model_module": "@jupyter-widgets/controls",
     "model_module_version": "1.5.0",
     "model_name": "DescriptionStyleModel",
     "state": {
      "_model_module": "@jupyter-widgets/controls",
      "_model_module_version": "1.5.0",
      "_model_name": "DescriptionStyleModel",
      "_view_count": null,
      "_view_module": "@jupyter-widgets/base",
      "_view_module_version": "1.2.0",
      "_view_name": "StyleView",
      "description_width": ""
     }
    },
    "aa50ae8fd49a4b6aa0e3c8ad2897ed50": {
     "model_module": "@jupyter-widgets/base",
     "model_module_version": "1.2.0",
     "model_name": "LayoutModel",
     "state": {
      "_model_module": "@jupyter-widgets/base",
      "_model_module_version": "1.2.0",
      "_model_name": "LayoutModel",
      "_view_count": null,
      "_view_module": "@jupyter-widgets/base",
      "_view_module_version": "1.2.0",
      "_view_name": "LayoutView",
      "align_content": null,
      "align_items": null,
      "align_self": null,
      "border": null,
      "bottom": null,
      "display": null,
      "flex": null,
      "flex_flow": null,
      "grid_area": null,
      "grid_auto_columns": null,
      "grid_auto_flow": null,
      "grid_auto_rows": null,
      "grid_column": null,
      "grid_gap": null,
      "grid_row": null,
      "grid_template_areas": null,
      "grid_template_columns": null,
      "grid_template_rows": null,
      "height": null,
      "justify_content": null,
      "justify_items": null,
      "left": null,
      "margin": null,
      "max_height": null,
      "max_width": null,
      "min_height": null,
      "min_width": null,
      "object_fit": null,
      "object_position": null,
      "order": null,
      "overflow": null,
      "overflow_x": null,
      "overflow_y": null,
      "padding": null,
      "right": null,
      "top": null,
      "visibility": null,
      "width": null
     }
    },
    "aff93250e5f848e38234fa82a8144676": {
     "model_module": "@jupyter-widgets/base",
     "model_module_version": "1.2.0",
     "model_name": "LayoutModel",
     "state": {
      "_model_module": "@jupyter-widgets/base",
      "_model_module_version": "1.2.0",
      "_model_name": "LayoutModel",
      "_view_count": null,
      "_view_module": "@jupyter-widgets/base",
      "_view_module_version": "1.2.0",
      "_view_name": "LayoutView",
      "align_content": null,
      "align_items": null,
      "align_self": null,
      "border": null,
      "bottom": null,
      "display": null,
      "flex": null,
      "flex_flow": null,
      "grid_area": null,
      "grid_auto_columns": null,
      "grid_auto_flow": null,
      "grid_auto_rows": null,
      "grid_column": null,
      "grid_gap": null,
      "grid_row": null,
      "grid_template_areas": null,
      "grid_template_columns": null,
      "grid_template_rows": null,
      "height": null,
      "justify_content": null,
      "justify_items": null,
      "left": null,
      "margin": null,
      "max_height": null,
      "max_width": null,
      "min_height": null,
      "min_width": null,
      "object_fit": null,
      "object_position": null,
      "order": null,
      "overflow": null,
      "overflow_x": null,
      "overflow_y": null,
      "padding": null,
      "right": null,
      "top": null,
      "visibility": null,
      "width": null
     }
    },
    "b695e444602e4352b198a19bc57ec564": {
     "model_module": "@jupyter-widgets/controls",
     "model_module_version": "1.5.0",
     "model_name": "ProgressStyleModel",
     "state": {
      "_model_module": "@jupyter-widgets/controls",
      "_model_module_version": "1.5.0",
      "_model_name": "ProgressStyleModel",
      "_view_count": null,
      "_view_module": "@jupyter-widgets/base",
      "_view_module_version": "1.2.0",
      "_view_name": "StyleView",
      "bar_color": null,
      "description_width": ""
     }
    },
    "b829ad80b6b345fa84a3a14c8a9d6323": {
     "model_module": "@jupyter-widgets/controls",
     "model_module_version": "1.5.0",
     "model_name": "HTMLModel",
     "state": {
      "_dom_classes": [],
      "_model_module": "@jupyter-widgets/controls",
      "_model_module_version": "1.5.0",
      "_model_name": "HTMLModel",
      "_view_count": null,
      "_view_module": "@jupyter-widgets/controls",
      "_view_module_version": "1.5.0",
      "_view_name": "HTMLView",
      "description": "",
      "description_tooltip": null,
      "layout": "IPY_MODEL_dcfbb08bc7fb4a368fa54bca2e5d6604",
      "placeholder": "​",
      "style": "IPY_MODEL_02d8713a5c154e71b2d9e399cb8b50b6",
      "value": "de-en/validation-00000-of-00001.parquet: 100%"
     }
    },
    "bbaa8772b0b945dbab372a078feade27": {
     "model_module": "@jupyter-widgets/base",
     "model_module_version": "1.2.0",
     "model_name": "LayoutModel",
     "state": {
      "_model_module": "@jupyter-widgets/base",
      "_model_module_version": "1.2.0",
      "_model_name": "LayoutModel",
      "_view_count": null,
      "_view_module": "@jupyter-widgets/base",
      "_view_module_version": "1.2.0",
      "_view_name": "LayoutView",
      "align_content": null,
      "align_items": null,
      "align_self": null,
      "border": null,
      "bottom": null,
      "display": null,
      "flex": null,
      "flex_flow": null,
      "grid_area": null,
      "grid_auto_columns": null,
      "grid_auto_flow": null,
      "grid_auto_rows": null,
      "grid_column": null,
      "grid_gap": null,
      "grid_row": null,
      "grid_template_areas": null,
      "grid_template_columns": null,
      "grid_template_rows": null,
      "height": null,
      "justify_content": null,
      "justify_items": null,
      "left": null,
      "margin": null,
      "max_height": null,
      "max_width": null,
      "min_height": null,
      "min_width": null,
      "object_fit": null,
      "object_position": null,
      "order": null,
      "overflow": null,
      "overflow_x": null,
      "overflow_y": null,
      "padding": null,
      "right": null,
      "top": null,
      "visibility": null,
      "width": null
     }
    },
    "bdd66cedef7a4b2faf8ed2719eca156d": {
     "model_module": "@jupyter-widgets/controls",
     "model_module_version": "1.5.0",
     "model_name": "DescriptionStyleModel",
     "state": {
      "_model_module": "@jupyter-widgets/controls",
      "_model_module_version": "1.5.0",
      "_model_name": "DescriptionStyleModel",
      "_view_count": null,
      "_view_module": "@jupyter-widgets/base",
      "_view_module_version": "1.2.0",
      "_view_name": "StyleView",
      "description_width": ""
     }
    },
    "bf2395fa618c47aa9df139d49c75f642": {
     "model_module": "@jupyter-widgets/base",
     "model_module_version": "1.2.0",
     "model_name": "LayoutModel",
     "state": {
      "_model_module": "@jupyter-widgets/base",
      "_model_module_version": "1.2.0",
      "_model_name": "LayoutModel",
      "_view_count": null,
      "_view_module": "@jupyter-widgets/base",
      "_view_module_version": "1.2.0",
      "_view_name": "LayoutView",
      "align_content": null,
      "align_items": null,
      "align_self": null,
      "border": null,
      "bottom": null,
      "display": null,
      "flex": null,
      "flex_flow": null,
      "grid_area": null,
      "grid_auto_columns": null,
      "grid_auto_flow": null,
      "grid_auto_rows": null,
      "grid_column": null,
      "grid_gap": null,
      "grid_row": null,
      "grid_template_areas": null,
      "grid_template_columns": null,
      "grid_template_rows": null,
      "height": null,
      "justify_content": null,
      "justify_items": null,
      "left": null,
      "margin": null,
      "max_height": null,
      "max_width": null,
      "min_height": null,
      "min_width": null,
      "object_fit": null,
      "object_position": null,
      "order": null,
      "overflow": null,
      "overflow_x": null,
      "overflow_y": null,
      "padding": null,
      "right": null,
      "top": null,
      "visibility": null,
      "width": null
     }
    },
    "bfc9625c49244558bdd356619ff1d57d": {
     "model_module": "@jupyter-widgets/base",
     "model_module_version": "1.2.0",
     "model_name": "LayoutModel",
     "state": {
      "_model_module": "@jupyter-widgets/base",
      "_model_module_version": "1.2.0",
      "_model_name": "LayoutModel",
      "_view_count": null,
      "_view_module": "@jupyter-widgets/base",
      "_view_module_version": "1.2.0",
      "_view_name": "LayoutView",
      "align_content": null,
      "align_items": null,
      "align_self": null,
      "border": null,
      "bottom": null,
      "display": null,
      "flex": null,
      "flex_flow": null,
      "grid_area": null,
      "grid_auto_columns": null,
      "grid_auto_flow": null,
      "grid_auto_rows": null,
      "grid_column": null,
      "grid_gap": null,
      "grid_row": null,
      "grid_template_areas": null,
      "grid_template_columns": null,
      "grid_template_rows": null,
      "height": null,
      "justify_content": null,
      "justify_items": null,
      "left": null,
      "margin": null,
      "max_height": null,
      "max_width": null,
      "min_height": null,
      "min_width": null,
      "object_fit": null,
      "object_position": null,
      "order": null,
      "overflow": null,
      "overflow_x": null,
      "overflow_y": null,
      "padding": null,
      "right": null,
      "top": null,
      "visibility": null,
      "width": "20px"
     }
    },
    "c08e6e4ab5eb4fdf831980e7021506a2": {
     "model_module": "@jupyter-widgets/controls",
     "model_module_version": "1.5.0",
     "model_name": "HTMLModel",
     "state": {
      "_dom_classes": [],
      "_model_module": "@jupyter-widgets/controls",
      "_model_module_version": "1.5.0",
      "_model_name": "HTMLModel",
      "_view_count": null,
      "_view_module": "@jupyter-widgets/controls",
      "_view_module_version": "1.5.0",
      "_view_name": "HTMLView",
      "description": "",
      "description_tooltip": null,
      "layout": "IPY_MODEL_6e964c5a27d34be0ae3516311a155a2d",
      "placeholder": "​",
      "style": "IPY_MODEL_a6b42e44dd0946a18ca0fbc8d0eccd3b",
      "value": " 509k/509k [00:00&lt;00:00, 929kB/s]"
     }
    },
    "c2bde111ee5149699e16eb6fd68f6865": {
     "model_module": "@jupyter-widgets/base",
     "model_module_version": "1.2.0",
     "model_name": "LayoutModel",
     "state": {
      "_model_module": "@jupyter-widgets/base",
      "_model_module_version": "1.2.0",
      "_model_name": "LayoutModel",
      "_view_count": null,
      "_view_module": "@jupyter-widgets/base",
      "_view_module_version": "1.2.0",
      "_view_name": "LayoutView",
      "align_content": null,
      "align_items": null,
      "align_self": null,
      "border": null,
      "bottom": null,
      "display": null,
      "flex": null,
      "flex_flow": null,
      "grid_area": null,
      "grid_auto_columns": null,
      "grid_auto_flow": null,
      "grid_auto_rows": null,
      "grid_column": null,
      "grid_gap": null,
      "grid_row": null,
      "grid_template_areas": null,
      "grid_template_columns": null,
      "grid_template_rows": null,
      "height": null,
      "justify_content": null,
      "justify_items": null,
      "left": null,
      "margin": null,
      "max_height": null,
      "max_width": null,
      "min_height": null,
      "min_width": null,
      "object_fit": null,
      "object_position": null,
      "order": null,
      "overflow": null,
      "overflow_x": null,
      "overflow_y": null,
      "padding": null,
      "right": null,
      "top": null,
      "visibility": null,
      "width": null
     }
    },
    "c7c1e9c2bfa2469ba222ee6c9dd26876": {
     "model_module": "@jupyter-widgets/base",
     "model_module_version": "1.2.0",
     "model_name": "LayoutModel",
     "state": {
      "_model_module": "@jupyter-widgets/base",
      "_model_module_version": "1.2.0",
      "_model_name": "LayoutModel",
      "_view_count": null,
      "_view_module": "@jupyter-widgets/base",
      "_view_module_version": "1.2.0",
      "_view_name": "LayoutView",
      "align_content": null,
      "align_items": null,
      "align_self": null,
      "border": null,
      "bottom": null,
      "display": null,
      "flex": null,
      "flex_flow": null,
      "grid_area": null,
      "grid_auto_columns": null,
      "grid_auto_flow": null,
      "grid_auto_rows": null,
      "grid_column": null,
      "grid_gap": null,
      "grid_row": null,
      "grid_template_areas": null,
      "grid_template_columns": null,
      "grid_template_rows": null,
      "height": null,
      "justify_content": null,
      "justify_items": null,
      "left": null,
      "margin": null,
      "max_height": null,
      "max_width": null,
      "min_height": null,
      "min_width": null,
      "object_fit": null,
      "object_position": null,
      "order": null,
      "overflow": null,
      "overflow_x": null,
      "overflow_y": null,
      "padding": null,
      "right": null,
      "top": null,
      "visibility": null,
      "width": null
     }
    },
    "c93c8d53b3554afd86807af997f72301": {
     "model_module": "@jupyter-widgets/controls",
     "model_module_version": "1.5.0",
     "model_name": "DescriptionStyleModel",
     "state": {
      "_model_module": "@jupyter-widgets/controls",
      "_model_module_version": "1.5.0",
      "_model_name": "DescriptionStyleModel",
      "_view_count": null,
      "_view_module": "@jupyter-widgets/base",
      "_view_module_version": "1.2.0",
      "_view_name": "StyleView",
      "description_width": ""
     }
    },
    "cb7db672b02a4c788ad548d35d3cd01b": {
     "model_module": "@jupyter-widgets/controls",
     "model_module_version": "1.5.0",
     "model_name": "HTMLModel",
     "state": {
      "_dom_classes": [],
      "_model_module": "@jupyter-widgets/controls",
      "_model_module_version": "1.5.0",
      "_model_name": "HTMLModel",
      "_view_count": null,
      "_view_module": "@jupyter-widgets/controls",
      "_view_module_version": "1.5.0",
      "_view_name": "HTMLView",
      "description": "",
      "description_tooltip": null,
      "layout": "IPY_MODEL_8912e6028bb44d4dbbe97935dd26bac1",
      "placeholder": "​",
      "style": "IPY_MODEL_d00f308861cc4788b9a5fcee42bdb24f",
      "value": " 273M/273M [00:05&lt;00:00, 48.5MB/s]"
     }
    },
    "cc6a10c31a4c4f23a59dbcaefe0a024b": {
     "model_module": "@jupyter-widgets/base",
     "model_module_version": "1.2.0",
     "model_name": "LayoutModel",
     "state": {
      "_model_module": "@jupyter-widgets/base",
      "_model_module_version": "1.2.0",
      "_model_name": "LayoutModel",
      "_view_count": null,
      "_view_module": "@jupyter-widgets/base",
      "_view_module_version": "1.2.0",
      "_view_name": "LayoutView",
      "align_content": null,
      "align_items": null,
      "align_self": null,
      "border": null,
      "bottom": null,
      "display": null,
      "flex": null,
      "flex_flow": null,
      "grid_area": null,
      "grid_auto_columns": null,
      "grid_auto_flow": null,
      "grid_auto_rows": null,
      "grid_column": null,
      "grid_gap": null,
      "grid_row": null,
      "grid_template_areas": null,
      "grid_template_columns": null,
      "grid_template_rows": null,
      "height": null,
      "justify_content": null,
      "justify_items": null,
      "left": null,
      "margin": null,
      "max_height": null,
      "max_width": null,
      "min_height": null,
      "min_width": null,
      "object_fit": null,
      "object_position": null,
      "order": null,
      "overflow": null,
      "overflow_x": null,
      "overflow_y": null,
      "padding": null,
      "right": null,
      "top": null,
      "visibility": null,
      "width": null
     }
    },
    "ccccf3f339c84a67ae67556401a0c839": {
     "model_module": "@jupyter-widgets/controls",
     "model_module_version": "1.5.0",
     "model_name": "ProgressStyleModel",
     "state": {
      "_model_module": "@jupyter-widgets/controls",
      "_model_module_version": "1.5.0",
      "_model_name": "ProgressStyleModel",
      "_view_count": null,
      "_view_module": "@jupyter-widgets/base",
      "_view_module_version": "1.2.0",
      "_view_name": "StyleView",
      "bar_color": null,
      "description_width": ""
     }
    },
    "d00f308861cc4788b9a5fcee42bdb24f": {
     "model_module": "@jupyter-widgets/controls",
     "model_module_version": "1.5.0",
     "model_name": "DescriptionStyleModel",
     "state": {
      "_model_module": "@jupyter-widgets/controls",
      "_model_module_version": "1.5.0",
      "_model_name": "DescriptionStyleModel",
      "_view_count": null,
      "_view_module": "@jupyter-widgets/base",
      "_view_module_version": "1.2.0",
      "_view_name": "StyleView",
      "description_width": ""
     }
    },
    "d15a95ef80ce4ac8b53757cb7169b8bf": {
     "model_module": "@jupyter-widgets/base",
     "model_module_version": "1.2.0",
     "model_name": "LayoutModel",
     "state": {
      "_model_module": "@jupyter-widgets/base",
      "_model_module_version": "1.2.0",
      "_model_name": "LayoutModel",
      "_view_count": null,
      "_view_module": "@jupyter-widgets/base",
      "_view_module_version": "1.2.0",
      "_view_name": "LayoutView",
      "align_content": null,
      "align_items": null,
      "align_self": null,
      "border": null,
      "bottom": null,
      "display": null,
      "flex": null,
      "flex_flow": null,
      "grid_area": null,
      "grid_auto_columns": null,
      "grid_auto_flow": null,
      "grid_auto_rows": null,
      "grid_column": null,
      "grid_gap": null,
      "grid_row": null,
      "grid_template_areas": null,
      "grid_template_columns": null,
      "grid_template_rows": null,
      "height": null,
      "justify_content": null,
      "justify_items": null,
      "left": null,
      "margin": null,
      "max_height": null,
      "max_width": null,
      "min_height": null,
      "min_width": null,
      "object_fit": null,
      "object_position": null,
      "order": null,
      "overflow": null,
      "overflow_x": null,
      "overflow_y": null,
      "padding": null,
      "right": null,
      "top": null,
      "visibility": null,
      "width": null
     }
    },
    "d1e5669d5e534cd3b7aeedf31c2d3e39": {
     "model_module": "@jupyter-widgets/base",
     "model_module_version": "1.2.0",
     "model_name": "LayoutModel",
     "state": {
      "_model_module": "@jupyter-widgets/base",
      "_model_module_version": "1.2.0",
      "_model_name": "LayoutModel",
      "_view_count": null,
      "_view_module": "@jupyter-widgets/base",
      "_view_module_version": "1.2.0",
      "_view_name": "LayoutView",
      "align_content": null,
      "align_items": null,
      "align_self": null,
      "border": null,
      "bottom": null,
      "display": null,
      "flex": null,
      "flex_flow": null,
      "grid_area": null,
      "grid_auto_columns": null,
      "grid_auto_flow": null,
      "grid_auto_rows": null,
      "grid_column": null,
      "grid_gap": null,
      "grid_row": null,
      "grid_template_areas": null,
      "grid_template_columns": null,
      "grid_template_rows": null,
      "height": null,
      "justify_content": null,
      "justify_items": null,
      "left": null,
      "margin": null,
      "max_height": null,
      "max_width": null,
      "min_height": null,
      "min_width": null,
      "object_fit": null,
      "object_position": null,
      "order": null,
      "overflow": null,
      "overflow_x": null,
      "overflow_y": null,
      "padding": null,
      "right": null,
      "top": null,
      "visibility": null,
      "width": null
     }
    },
    "d2c76d38a30141748413e873129decfb": {
     "model_module": "@jupyter-widgets/controls",
     "model_module_version": "1.5.0",
     "model_name": "HBoxModel",
     "state": {
      "_dom_classes": [],
      "_model_module": "@jupyter-widgets/controls",
      "_model_module_version": "1.5.0",
      "_model_name": "HBoxModel",
      "_view_count": null,
      "_view_module": "@jupyter-widgets/controls",
      "_view_module_version": "1.5.0",
      "_view_name": "HBoxView",
      "box_style": "",
      "children": [
       "IPY_MODEL_fd7e2ab717d7478a8f154dfc68151f17",
       "IPY_MODEL_77c19d4bf65742389ade7ff0bd17869d",
       "IPY_MODEL_2ff031af3267433bbe461dc146c63356"
      ],
      "layout": "IPY_MODEL_aa50ae8fd49a4b6aa0e3c8ad2897ed50"
     }
    },
    "d3316c90c6d244fa9a8f1aebf3ec3da6": {
     "model_module": "@jupyter-widgets/base",
     "model_module_version": "1.2.0",
     "model_name": "LayoutModel",
     "state": {
      "_model_module": "@jupyter-widgets/base",
      "_model_module_version": "1.2.0",
      "_model_name": "LayoutModel",
      "_view_count": null,
      "_view_module": "@jupyter-widgets/base",
      "_view_module_version": "1.2.0",
      "_view_name": "LayoutView",
      "align_content": null,
      "align_items": null,
      "align_self": null,
      "border": null,
      "bottom": null,
      "display": null,
      "flex": null,
      "flex_flow": null,
      "grid_area": null,
      "grid_auto_columns": null,
      "grid_auto_flow": null,
      "grid_auto_rows": null,
      "grid_column": null,
      "grid_gap": null,
      "grid_row": null,
      "grid_template_areas": null,
      "grid_template_columns": null,
      "grid_template_rows": null,
      "height": null,
      "justify_content": null,
      "justify_items": null,
      "left": null,
      "margin": null,
      "max_height": null,
      "max_width": null,
      "min_height": null,
      "min_width": null,
      "object_fit": null,
      "object_position": null,
      "order": null,
      "overflow": null,
      "overflow_x": null,
      "overflow_y": null,
      "padding": null,
      "right": null,
      "top": null,
      "visibility": null,
      "width": null
     }
    },
    "d5d7f14c86fa4f2490c8c76435de5dcc": {
     "model_module": "@jupyter-widgets/controls",
     "model_module_version": "1.5.0",
     "model_name": "HTMLModel",
     "state": {
      "_dom_classes": [],
      "_model_module": "@jupyter-widgets/controls",
      "_model_module_version": "1.5.0",
      "_model_name": "HTMLModel",
      "_view_count": null,
      "_view_module": "@jupyter-widgets/controls",
      "_view_module_version": "1.5.0",
      "_view_name": "HTMLView",
      "description": "",
      "description_tooltip": null,
      "layout": "IPY_MODEL_ffa1acdcc1cb47abb8132fc5afaf9c65",
      "placeholder": "​",
      "style": "IPY_MODEL_45cabeac7eac4c6d9eaf2bb51b0aa107",
      "value": "Generating validation split: 100%"
     }
    },
    "d602b24af5654b80a1fe1954fc526bc9": {
     "model_module": "@jupyter-widgets/controls",
     "model_module_version": "1.5.0",
     "model_name": "DescriptionStyleModel",
     "state": {
      "_model_module": "@jupyter-widgets/controls",
      "_model_module_version": "1.5.0",
      "_model_name": "DescriptionStyleModel",
      "_view_count": null,
      "_view_module": "@jupyter-widgets/base",
      "_view_module_version": "1.2.0",
      "_view_name": "StyleView",
      "description_width": ""
     }
    },
    "dcfbb08bc7fb4a368fa54bca2e5d6604": {
     "model_module": "@jupyter-widgets/base",
     "model_module_version": "1.2.0",
     "model_name": "LayoutModel",
     "state": {
      "_model_module": "@jupyter-widgets/base",
      "_model_module_version": "1.2.0",
      "_model_name": "LayoutModel",
      "_view_count": null,
      "_view_module": "@jupyter-widgets/base",
      "_view_module_version": "1.2.0",
      "_view_name": "LayoutView",
      "align_content": null,
      "align_items": null,
      "align_self": null,
      "border": null,
      "bottom": null,
      "display": null,
      "flex": null,
      "flex_flow": null,
      "grid_area": null,
      "grid_auto_columns": null,
      "grid_auto_flow": null,
      "grid_auto_rows": null,
      "grid_column": null,
      "grid_gap": null,
      "grid_row": null,
      "grid_template_areas": null,
      "grid_template_columns": null,
      "grid_template_rows": null,
      "height": null,
      "justify_content": null,
      "justify_items": null,
      "left": null,
      "margin": null,
      "max_height": null,
      "max_width": null,
      "min_height": null,
      "min_width": null,
      "object_fit": null,
      "object_position": null,
      "order": null,
      "overflow": null,
      "overflow_x": null,
      "overflow_y": null,
      "padding": null,
      "right": null,
      "top": null,
      "visibility": null,
      "width": null
     }
    },
    "de249e8a3e8d472d9702cdbc1d48c131": {
     "model_module": "@jupyter-widgets/base",
     "model_module_version": "1.2.0",
     "model_name": "LayoutModel",
     "state": {
      "_model_module": "@jupyter-widgets/base",
      "_model_module_version": "1.2.0",
      "_model_name": "LayoutModel",
      "_view_count": null,
      "_view_module": "@jupyter-widgets/base",
      "_view_module_version": "1.2.0",
      "_view_name": "LayoutView",
      "align_content": null,
      "align_items": null,
      "align_self": null,
      "border": null,
      "bottom": null,
      "display": null,
      "flex": null,
      "flex_flow": null,
      "grid_area": null,
      "grid_auto_columns": null,
      "grid_auto_flow": null,
      "grid_auto_rows": null,
      "grid_column": null,
      "grid_gap": null,
      "grid_row": null,
      "grid_template_areas": null,
      "grid_template_columns": null,
      "grid_template_rows": null,
      "height": null,
      "justify_content": null,
      "justify_items": null,
      "left": null,
      "margin": null,
      "max_height": null,
      "max_width": null,
      "min_height": null,
      "min_width": null,
      "object_fit": null,
      "object_position": null,
      "order": null,
      "overflow": null,
      "overflow_x": null,
      "overflow_y": null,
      "padding": null,
      "right": null,
      "top": null,
      "visibility": null,
      "width": null
     }
    },
    "df5749ad395d4c3b81d191b7ee639482": {
     "model_module": "@jupyter-widgets/controls",
     "model_module_version": "1.5.0",
     "model_name": "HTMLModel",
     "state": {
      "_dom_classes": [],
      "_model_module": "@jupyter-widgets/controls",
      "_model_module_version": "1.5.0",
      "_model_name": "HTMLModel",
      "_view_count": null,
      "_view_module": "@jupyter-widgets/controls",
      "_view_module_version": "1.5.0",
      "_view_name": "HTMLView",
      "description": "",
      "description_tooltip": null,
      "layout": "IPY_MODEL_d3316c90c6d244fa9a8f1aebf3ec3da6",
      "placeholder": "​",
      "style": "IPY_MODEL_a2b4c15c1d634c158ec3bd5aa25fd927",
      "value": "README.md: "
     }
    },
    "e0c3f48502c24a2689b065c767fe4320": {
     "model_module": "@jupyter-widgets/base",
     "model_module_version": "1.2.0",
     "model_name": "LayoutModel",
     "state": {
      "_model_module": "@jupyter-widgets/base",
      "_model_module_version": "1.2.0",
      "_model_name": "LayoutModel",
      "_view_count": null,
      "_view_module": "@jupyter-widgets/base",
      "_view_module_version": "1.2.0",
      "_view_name": "LayoutView",
      "align_content": null,
      "align_items": null,
      "align_self": null,
      "border": null,
      "bottom": null,
      "display": null,
      "flex": null,
      "flex_flow": null,
      "grid_area": null,
      "grid_auto_columns": null,
      "grid_auto_flow": null,
      "grid_auto_rows": null,
      "grid_column": null,
      "grid_gap": null,
      "grid_row": null,
      "grid_template_areas": null,
      "grid_template_columns": null,
      "grid_template_rows": null,
      "height": null,
      "justify_content": null,
      "justify_items": null,
      "left": null,
      "margin": null,
      "max_height": null,
      "max_width": null,
      "min_height": null,
      "min_width": null,
      "object_fit": null,
      "object_position": null,
      "order": null,
      "overflow": null,
      "overflow_x": null,
      "overflow_y": null,
      "padding": null,
      "right": null,
      "top": null,
      "visibility": null,
      "width": null
     }
    },
    "e21999f3347044b2a4defa8da259875d": {
     "model_module": "@jupyter-widgets/controls",
     "model_module_version": "1.5.0",
     "model_name": "FloatProgressModel",
     "state": {
      "_dom_classes": [],
      "_model_module": "@jupyter-widgets/controls",
      "_model_module_version": "1.5.0",
      "_model_name": "FloatProgressModel",
      "_view_count": null,
      "_view_module": "@jupyter-widgets/controls",
      "_view_module_version": "1.5.0",
      "_view_name": "ProgressView",
      "bar_style": "success",
      "description": "",
      "description_tooltip": null,
      "layout": "IPY_MODEL_0afde08bbe714717ba00b9d86b7944a3",
      "max": 279527247,
      "min": 0,
      "orientation": "horizontal",
      "style": "IPY_MODEL_ccccf3f339c84a67ae67556401a0c839",
      "value": 279527247
     }
    },
    "e857328607a14297879a03afdeaf2dbf": {
     "model_module": "@jupyter-widgets/base",
     "model_module_version": "1.2.0",
     "model_name": "LayoutModel",
     "state": {
      "_model_module": "@jupyter-widgets/base",
      "_model_module_version": "1.2.0",
      "_model_name": "LayoutModel",
      "_view_count": null,
      "_view_module": "@jupyter-widgets/base",
      "_view_module_version": "1.2.0",
      "_view_name": "LayoutView",
      "align_content": null,
      "align_items": null,
      "align_self": null,
      "border": null,
      "bottom": null,
      "display": null,
      "flex": null,
      "flex_flow": null,
      "grid_area": null,
      "grid_auto_columns": null,
      "grid_auto_flow": null,
      "grid_auto_rows": null,
      "grid_column": null,
      "grid_gap": null,
      "grid_row": null,
      "grid_template_areas": null,
      "grid_template_columns": null,
      "grid_template_rows": null,
      "height": null,
      "justify_content": null,
      "justify_items": null,
      "left": null,
      "margin": null,
      "max_height": null,
      "max_width": null,
      "min_height": null,
      "min_width": null,
      "object_fit": null,
      "object_position": null,
      "order": null,
      "overflow": null,
      "overflow_x": null,
      "overflow_y": null,
      "padding": null,
      "right": null,
      "top": null,
      "visibility": null,
      "width": null
     }
    },
    "e97fc10d74614e3d8640d4feaf0d1d37": {
     "model_module": "@jupyter-widgets/base",
     "model_module_version": "1.2.0",
     "model_name": "LayoutModel",
     "state": {
      "_model_module": "@jupyter-widgets/base",
      "_model_module_version": "1.2.0",
      "_model_name": "LayoutModel",
      "_view_count": null,
      "_view_module": "@jupyter-widgets/base",
      "_view_module_version": "1.2.0",
      "_view_name": "LayoutView",
      "align_content": null,
      "align_items": null,
      "align_self": null,
      "border": null,
      "bottom": null,
      "display": null,
      "flex": null,
      "flex_flow": null,
      "grid_area": null,
      "grid_auto_columns": null,
      "grid_auto_flow": null,
      "grid_auto_rows": null,
      "grid_column": null,
      "grid_gap": null,
      "grid_row": null,
      "grid_template_areas": null,
      "grid_template_columns": null,
      "grid_template_rows": null,
      "height": null,
      "justify_content": null,
      "justify_items": null,
      "left": null,
      "margin": null,
      "max_height": null,
      "max_width": null,
      "min_height": null,
      "min_width": null,
      "object_fit": null,
      "object_position": null,
      "order": null,
      "overflow": null,
      "overflow_x": null,
      "overflow_y": null,
      "padding": null,
      "right": null,
      "top": null,
      "visibility": null,
      "width": null
     }
    },
    "f2325f9e1c1843b0941a7e2ce40e83c2": {
     "model_module": "@jupyter-widgets/controls",
     "model_module_version": "1.5.0",
     "model_name": "HTMLModel",
     "state": {
      "_dom_classes": [],
      "_model_module": "@jupyter-widgets/controls",
      "_model_module_version": "1.5.0",
      "_model_name": "HTMLModel",
      "_view_count": null,
      "_view_module": "@jupyter-widgets/controls",
      "_view_module_version": "1.5.0",
      "_view_name": "HTMLView",
      "description": "",
      "description_tooltip": null,
      "layout": "IPY_MODEL_bf2395fa618c47aa9df139d49c75f642",
      "placeholder": "​",
      "style": "IPY_MODEL_a648c1ebb8c44aecb7ab339ffdc49231",
      "value": " 10.5k/? [00:00&lt;00:00, 202kB/s]"
     }
    },
    "f2ce8e4d200f4fe98d27ee28b9e1566b": {
     "model_module": "@jupyter-widgets/base",
     "model_module_version": "1.2.0",
     "model_name": "LayoutModel",
     "state": {
      "_model_module": "@jupyter-widgets/base",
      "_model_module_version": "1.2.0",
      "_model_name": "LayoutModel",
      "_view_count": null,
      "_view_module": "@jupyter-widgets/base",
      "_view_module_version": "1.2.0",
      "_view_name": "LayoutView",
      "align_content": null,
      "align_items": null,
      "align_self": null,
      "border": null,
      "bottom": null,
      "display": null,
      "flex": null,
      "flex_flow": null,
      "grid_area": null,
      "grid_auto_columns": null,
      "grid_auto_flow": null,
      "grid_auto_rows": null,
      "grid_column": null,
      "grid_gap": null,
      "grid_row": null,
      "grid_template_areas": null,
      "grid_template_columns": null,
      "grid_template_rows": null,
      "height": null,
      "justify_content": null,
      "justify_items": null,
      "left": null,
      "margin": null,
      "max_height": null,
      "max_width": null,
      "min_height": null,
      "min_width": null,
      "object_fit": null,
      "object_position": null,
      "order": null,
      "overflow": null,
      "overflow_x": null,
      "overflow_y": null,
      "padding": null,
      "right": null,
      "top": null,
      "visibility": null,
      "width": null
     }
    },
    "f67d6d3ff3c64903a08ce3f86a0b6a1b": {
     "model_module": "@jupyter-widgets/controls",
     "model_module_version": "1.5.0",
     "model_name": "DescriptionStyleModel",
     "state": {
      "_model_module": "@jupyter-widgets/controls",
      "_model_module_version": "1.5.0",
      "_model_name": "DescriptionStyleModel",
      "_view_count": null,
      "_view_module": "@jupyter-widgets/base",
      "_view_module_version": "1.2.0",
      "_view_name": "StyleView",
      "description_width": ""
     }
    },
    "fcf7631f123946b1bed2b6dda3334e63": {
     "model_module": "@jupyter-widgets/base",
     "model_module_version": "1.2.0",
     "model_name": "LayoutModel",
     "state": {
      "_model_module": "@jupyter-widgets/base",
      "_model_module_version": "1.2.0",
      "_model_name": "LayoutModel",
      "_view_count": null,
      "_view_module": "@jupyter-widgets/base",
      "_view_module_version": "1.2.0",
      "_view_name": "LayoutView",
      "align_content": null,
      "align_items": null,
      "align_self": null,
      "border": null,
      "bottom": null,
      "display": null,
      "flex": null,
      "flex_flow": null,
      "grid_area": null,
      "grid_auto_columns": null,
      "grid_auto_flow": null,
      "grid_auto_rows": null,
      "grid_column": null,
      "grid_gap": null,
      "grid_row": null,
      "grid_template_areas": null,
      "grid_template_columns": null,
      "grid_template_rows": null,
      "height": null,
      "justify_content": null,
      "justify_items": null,
      "left": null,
      "margin": null,
      "max_height": null,
      "max_width": null,
      "min_height": null,
      "min_width": null,
      "object_fit": null,
      "object_position": null,
      "order": null,
      "overflow": null,
      "overflow_x": null,
      "overflow_y": null,
      "padding": null,
      "right": null,
      "top": null,
      "visibility": null,
      "width": null
     }
    },
    "fd7e2ab717d7478a8f154dfc68151f17": {
     "model_module": "@jupyter-widgets/controls",
     "model_module_version": "1.5.0",
     "model_name": "HTMLModel",
     "state": {
      "_dom_classes": [],
      "_model_module": "@jupyter-widgets/controls",
      "_model_module_version": "1.5.0",
      "_model_name": "HTMLModel",
      "_view_count": null,
      "_view_module": "@jupyter-widgets/controls",
      "_view_module_version": "1.5.0",
      "_view_name": "HTMLView",
      "description": "",
      "description_tooltip": null,
      "layout": "IPY_MODEL_c2bde111ee5149699e16eb6fd68f6865",
      "placeholder": "​",
      "style": "IPY_MODEL_d602b24af5654b80a1fe1954fc526bc9",
      "value": "Generating train split: 100%"
     }
    },
    "ffa1acdcc1cb47abb8132fc5afaf9c65": {
     "model_module": "@jupyter-widgets/base",
     "model_module_version": "1.2.0",
     "model_name": "LayoutModel",
     "state": {
      "_model_module": "@jupyter-widgets/base",
      "_model_module_version": "1.2.0",
      "_model_name": "LayoutModel",
      "_view_count": null,
      "_view_module": "@jupyter-widgets/base",
      "_view_module_version": "1.2.0",
      "_view_name": "LayoutView",
      "align_content": null,
      "align_items": null,
      "align_self": null,
      "border": null,
      "bottom": null,
      "display": null,
      "flex": null,
      "flex_flow": null,
      "grid_area": null,
      "grid_auto_columns": null,
      "grid_auto_flow": null,
      "grid_auto_rows": null,
      "grid_column": null,
      "grid_gap": null,
      "grid_row": null,
      "grid_template_areas": null,
      "grid_template_columns": null,
      "grid_template_rows": null,
      "height": null,
      "justify_content": null,
      "justify_items": null,
      "left": null,
      "margin": null,
      "max_height": null,
      "max_width": null,
      "min_height": null,
      "min_width": null,
      "object_fit": null,
      "object_position": null,
      "order": null,
      "overflow": null,
      "overflow_x": null,
      "overflow_y": null,
      "padding": null,
      "right": null,
      "top": null,
      "visibility": null,
      "width": null
     }
    }
   }
  }
 },
 "nbformat": 4,
 "nbformat_minor": 5
}
